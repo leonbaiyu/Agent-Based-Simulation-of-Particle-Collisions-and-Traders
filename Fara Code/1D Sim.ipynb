{
 "cells": [
  {
   "cell_type": "markdown",
   "metadata": {},
   "source": [
    "Randomly-colliding particles on a line (1D)\n",
    "==="
   ]
  },
  {
   "cell_type": "code",
   "execution_count": 2,
   "metadata": {},
   "outputs": [],
   "source": [
    "import numpy as np\n",
    "import matplotlib.pyplot as plt\n",
    "import random"
   ]
  },
  {
   "cell_type": "code",
   "execution_count": 3,
   "metadata": {},
   "outputs": [],
   "source": [
    "#Time range and small step :\n",
    "t0 = 0\n",
    "tf = 1\n",
    "t = np.linspace(t0, tf, 5000)\n",
    "tsize = np.size(t)\n",
    "\n",
    "#Length of the 1D line [0, L] :\n",
    "L = 1000"
   ]
  },
  {
   "cell_type": "markdown",
   "metadata": {},
   "source": [
    "### Initialisation"
   ]
  },
  {
   "cell_type": "code",
   "execution_count": 4,
   "metadata": {},
   "outputs": [
    {
     "name": "stdin",
     "output_type": "stream",
     "text": [
      "Enter the maximum particle size possible =  3\n",
      "Enter the initial condition of n_1 =  50\n",
      "Enter the initial condition of n_2 =  0\n",
      "Enter the initial condition of n_3 =  0\n"
     ]
    },
    {
     "name": "stdout",
     "output_type": "stream",
     "text": [
      "Number of particles =  50\n"
     ]
    }
   ],
   "source": [
    "#Maximum particle size :\n",
    "max_size = int(input(\"Enter the maximum particle size possible = \"))\n",
    "\n",
    "#Initial array of the concentration of population :\n",
    "n = np.zeros((tsize, max_size))\n",
    "nb_particles = 0\n",
    "\n",
    "for i in range(0, max_size):\n",
    "    n[0, i] = int(input(\"Enter the initial condition of n_%d = \" %(i+1)))\n",
    "    nb_particles = int(nb_particles + n[0, i])\n",
    "\n",
    "print(\"Number of particles = \", nb_particles)\n",
    "#print(n)"
   ]
  },
  {
   "cell_type": "code",
   "execution_count": 5,
   "metadata": {},
   "outputs": [
    {
     "name": "stdout",
     "output_type": "stream",
     "text": [
      "[[  1. 229.]\n",
      " [  1.   3.]\n",
      " [  1. 548.]\n",
      " [  1. 686.]\n",
      " [  1. 333.]\n",
      " [  1. 835.]\n",
      " [  1. 895.]\n",
      " [  1. 223.]\n",
      " [  1. 199.]\n",
      " [  1. 192.]\n",
      " [  1. 680.]\n",
      " [  1. 353.]\n",
      " [  1. 539.]\n",
      " [  1. 816.]\n",
      " [  1. 195.]\n",
      " [  1.  86.]\n",
      " [  1. 546.]\n",
      " [  1. 475.]\n",
      " [  1. 608.]\n",
      " [  1. 983.]\n",
      " [  1.  76.]\n",
      " [  1. 810.]\n",
      " [  1. 423.]\n",
      " [  1. 712.]\n",
      " [  1. 611.]\n",
      " [  1. 232.]\n",
      " [  1. 814.]\n",
      " [  1. 308.]\n",
      " [  1. 208.]\n",
      " [  1.  74.]\n",
      " [  1. 555.]\n",
      " [  1. 660.]\n",
      " [  1. 522.]\n",
      " [  1. 589.]\n",
      " [  1. 146.]\n",
      " [  1. 355.]\n",
      " [  1. 274.]\n",
      " [  1. 249.]\n",
      " [  1. 713.]\n",
      " [  1. 923.]\n",
      " [  1. 489.]\n",
      " [  1. 864.]\n",
      " [  1. 886.]\n",
      " [  1. 289.]\n",
      " [  1. 986.]\n",
      " [  1. 726.]\n",
      " [  1. 992.]\n",
      " [  1. 341.]\n",
      " [  1. 122.]\n",
      " [  1. 947.]]\n"
     ]
    }
   ],
   "source": [
    "#Initial positions of nb_particles in the line of length L (without 2 particles at the same position) :\n",
    "rand_positions = np.random.choice(L, nb_particles, replace=False)\n",
    "\n",
    "#2D array of size + position for each particle : ps = [[size r_i, position_i], ...] :\n",
    "\n",
    "ps = np.empty([0,2])\n",
    "#Add the right number of particles of size r according to the initial conditions given above :\n",
    "for i in range(max_size) :\n",
    "    ps = np.concatenate( (ps, (i+1)*np.ones([ int(n[0,i]) , 2])) )\n",
    "    \n",
    "#Add the random positions x on the array\n",
    "for i in range(nb_particles) :\n",
    "    ps[i, 1] = rand_positions[i]\n",
    "\n",
    "print(ps)"
   ]
  },
  {
   "cell_type": "markdown",
   "metadata": {},
   "source": [
    "##### Things to keep in mind :\n",
    "- the particles are not point-like : there is collision if the distance between 2 particles is smaller than the spatial step\n",
    "- if nothing happens, the concentrations stay the same than before\n",
    "\n",
    "##### Allowed collision or not ?\n",
    "Before allowing a collision to happen, we need to check if the size of the created particle is smaller or equal to max_size. \n",
    "If there are only 2 particles on a same position, we just have to check the addition of their sizes.\n",
    "But if there are more than 2 particles (p1, p2, p3, ..., px, ...) on a same position, we proceed by colliding particles one by one :\n",
    "- p1 collides with p2 if s1+s2<= max_size, p1 becomes the new particle of size s1+s2 and p2 is removed \n",
    "- p1 collides with p3 if s1+s3<= max_size, p1 becomes the new particle of size s1+s3 and p3 is removed\n",
    "- ...\n",
    "- when s1+sx > max_size, the collision is not allowed, p1 and px stays at their position. \n",
    "\n",
    "This way of thinking allows us to define allowed collisions and to solve the issue of several particles at the same position !"
   ]
  },
  {
   "cell_type": "code",
   "execution_count": 8,
   "metadata": {},
   "outputs": [
    {
     "name": "stdout",
     "output_type": "stream",
     "text": [
      "48\n"
     ]
    }
   ],
   "source": [
    "print(np.shape(ps)[0]-1)"
   ]
  },
  {
   "cell_type": "code",
   "execution_count": 16,
   "metadata": {},
   "outputs": [],
   "source": [
    "#For every time t :\n",
    "for t_i in range(1, tsize) : \n",
    "    \n",
    "    #Random moves of step = +/- 1 for each particle :\n",
    "    for i in range(np.shape(ps)[0]) :\n",
    "        step = random.randint(1, 2)\n",
    "        if step==1 : #move to the right\n",
    "            ps[i, 1] += 1\n",
    "        elif step==2 : #move to the left\n",
    "            ps[i, 1] -= 1\n",
    "    \n",
    "    #Initialisation of concentrations for each size r :\n",
    "    #If there are no collisions at t_i, they will stay as they were at t_i-1\n",
    "    for r in range(max_size) :\n",
    "        n[t_i, r] = n[ t_i-1, r]\n",
    "\n",
    "    #Collisions and evolution of concentrations :\n",
    "    for i in range( np.shape(ps)[0] ) : # loops for each particle in the simulation\n",
    "        for j in range( i+1, np.shape(ps)[0]-1 ) : # loops through each other particle in the simulation\n",
    "            \n",
    "            if abs(ps[i, 1] - ps[j, 1]) < 1 :  # distance between 2 particles smaller than spatial step\n",
    "                if ps[i, 0] + ps[j, 0] <= max_size : # AND collision allowed by the maximum particle size\n",
    "                    \n",
    "                    #Loss in concentration from particle i and j which are colliding :\n",
    "                    #EXAMPLE : if particle i is size s_i=1, ps[i,0]=1 so its corresponding concentration is n[t,0]=n[t, ps[i,0-1] ]\n",
    "                    n[ t_i, int(ps[i,0]-1) ] -= 1 \n",
    "                    n[ t_i, int(ps[j,0]-1) ] -= 1 \n",
    "                    \n",
    "                    #the size of the new particle created by the collision increases ;\n",
    "                    #we stock this new particle in the index i\n",
    "                    ps[i, 0] = ps[i, 0] + ps[j, 0]\n",
    "                    \n",
    "                    #Gain in concentration of size s_i+s_j = ps[i,0] according to the eq above :\n",
    "                    n[ t_i, int(ps[i, 0]-1) ] += 1\n",
    "                    \n",
    "                    #The particle j is removed from the array :\n",
    "                    ps = np.delete(ps, j, 0)"
   ]
  },
  {
   "cell_type": "code",
   "execution_count": 17,
   "metadata": {},
   "outputs": [
    {
     "data": {
      "image/png": "[encoded data removed]",
      "text/plain": [
       "<Figure size 720x432 with 1 Axes>"
      ]
     },
     "metadata": {
      "needs_background": "light"
     },
     "output_type": "display_data"
    }
   ],
   "source": [
    "#Plot of the evolution of the concentrations :\n",
    "plt.figure(figsize=(10,6))\n",
    "plt.title(\"Evolution of the particle concentrations (using random motion)\")\n",
    "plt.xlabel(\"Time t (s)\")\n",
    "plt.ylabel(\"Particle concentration\")\n",
    "for r in range(max_size) :\n",
    "    plt.plot(t[:500], n[:500, r], label=\"n%d\"%(r+1))\n",
    "    \n",
    "plt.legend()\n",
    "plt.ylim(0,100)\n",
    "plt.show()"
   ]
  },
  {
   "cell_type": "markdown",
   "metadata": {},
   "source": [
    "We have steps : normal because when there is collision, n1 loses 2 particles and n2 increases from 1 -> this is not continuous, it's discrete"
   ]
  },
  {
   "cell_type": "code",
   "execution_count": 18,
   "metadata": {},
   "outputs": [
    {
     "name": "stdout",
     "output_type": "stream",
     "text": [
      "50.0\n",
      "0.0\n"
     ]
    }
   ],
   "source": [
    "print(n[4, 0])\n",
    "print(n[4, 1])\n",
    "\n",
    "for k in range(tsize) :\n",
    "    if n[k, 1] - n[k, 0] <= 2 and n[k, 1] - n[k, 0] >= 0 : #point when n2 becomes dominant\n",
    "        print(k)\n",
    "        print(t[k])\n",
    "        break"
   ]
  },
  {
   "cell_type": "markdown",
   "metadata": {},
   "source": [
    "### Conservation of the total mass"
   ]
  },
  {
   "cell_type": "code",
   "execution_count": 19,
   "metadata": {},
   "outputs": [
    {
     "data": {
      "image/png": "[encoded data removed]",
      "text/plain": [
       "<Figure size 576x288 with 1 Axes>"
      ]
     },
     "metadata": {
      "needs_background": "light"
     },
     "output_type": "display_data"
    }
   ],
   "source": [
    "#Total mass :\n",
    "def M(n) :\n",
    "    sum=0\n",
    "    for r in range(max_size) :\n",
    "        sum = sum + (r+1)*n[:, r]\n",
    "    return sum\n",
    "\n",
    "plt.figure(figsize=(8,4))\n",
    "plt.title(\"Evolution of the total mass (using the randomly moving particles in 1D)\")\n",
    "plt.xlabel(\"Time t (s)\")\n",
    "plt.ylabel(\"Total mass\")\n",
    "\n",
    "plt.plot(t, M(n))\n",
    "plt.show()"
   ]
  },
  {
   "cell_type": "markdown",
   "metadata": {},
   "source": [
    "Things to do :\n",
    "- see the dependence of the length L on the result (like when the two concentrations are equal or really close)\n",
    "- use that to find the right value of L to compare with the analytical solutions (the specific point needs to be at the same time than for the analytical for being able to compare them)\n",
    "- make an illustration of the particles\n",
    "- do it in 2D"
   ]
  },
  {
   "cell_type": "markdown",
   "metadata": {},
   "source": [
    "### Role of the length L\n",
    "##### If L increases, the particles will need more time to meet other particles and then the time that it takes to have equal concentrations will be longer\n",
    "##### Let's study that by plotting the time when n1 = n2 (+/- 2 particles) according to different lengths L"
   ]
  },
  {
   "cell_type": "code",
   "execution_count": 68,
   "metadata": {},
   "outputs": [],
   "source": [
    "#Same code than before but written in a function of L and array of time\n",
    "#The max_size and the initial conditions stays the same (we can set up them in the head of the code)\n",
    "\n",
    "def random_moves(L, t) :\n",
    "    \n",
    "    #Initial positions of nb_particles in the line of length L (without 2 particles at the same position) :\n",
    "    rand_positions = np.random.choice(L, nb_particles, replace=False)\n",
    "\n",
    "    #2D array of size + position for each particle : ps = [[size r_i, position_i], ...] :\n",
    "    ps = np.empty([0,2])\n",
    "    #Add the right number of particles of size r according to the initial conditions given above :\n",
    "    for i in range(max_size) :\n",
    "        ps = np.concatenate( (ps, (i+1)*np.ones([ int(n[0,i]) , 2])) )\n",
    "    #Add the random positions x on the array\n",
    "    for i in range(nb_particles) :\n",
    "        ps[i, 1] = rand_positions[i]\n",
    "    \n",
    "    #For every time t :\n",
    "    for t_i in range(1, tsize) : \n",
    "\n",
    "        #Random moves of step = +/- 1 for each particle :\n",
    "        for i in range(np.shape(ps)[0]) :\n",
    "            step = random.randint(1, 2)\n",
    "            if step==1 : #move to the right\n",
    "                ps[i, 1] += 1\n",
    "            elif step==2 : #move to the left\n",
    "                ps[i, 1] -= 1\n",
    "\n",
    "        #Initialisation of concentrations for each size r :\n",
    "        #If there are no collisions at t_i, they will stay as they were at t_i-1\n",
    "        for r in range(max_size) :\n",
    "            n[t_i, r] = n[ t_i-1, r]\n",
    "\n",
    "        #Collisions and evolution of concentrations :\n",
    "        for i in range( np.shape(ps)[0] ) :\n",
    "            for j in range( i+1, np.shape(ps)[0]-1 ) :\n",
    "\n",
    "                if abs(ps[i, 1] - ps[j, 1]) < 1 :  # distance between 2 particles smaller than spatial step\n",
    "                    if ps[i, 0] + ps[j, 0] <= max_size : # AND collision allowed by the maximum particle size\n",
    "\n",
    "                        #Loss in concentration from particle i and j which are colliding :\n",
    "                        #EXAMPLE : if particle i is size s_i=1, ps[i,0]=1 so its corresponding concentration is n[t,0]=n[t, ps[i,0-1] ]\n",
    "                        n[ t_i, int(ps[i,0]-1) ] -= 1 \n",
    "                        n[ t_i, int(ps[j,0]-1) ] -= 1 \n",
    "\n",
    "                        #the size of the new particle created by the collision increases ;\n",
    "                        #we stock this new particle in the index i\n",
    "                        ps[i, 0] = ps[i, 0] + ps[j, 0]\n",
    "\n",
    "                        #Gain in concentration of size s_i+s_j = ps[i,0] according to the eq above :\n",
    "                        n[ t_i, int(ps[i, 0]-1) ] += 1\n",
    "\n",
    "                        #The particle j is removed from the array :\n",
    "                        ps = np.delete(ps, j, 0)\n",
    "    \n",
    "    #Return the time when n2 becomes dominant :\n",
    "    for k in range(np.size(t)) :\n",
    "        if n[k, 1] - n[k, 0] <= 2 and n[k, 1] - n[k, 0] >= 0 : #point when n2 becomes dominant\n",
    "            return t[k]"
   ]
  },
  {
   "cell_type": "code",
   "execution_count": 85,
   "metadata": {},
   "outputs": [],
   "source": [
    "t = np.linspace(0, 1, 1000)\n",
    "L_list = np.arange(100, 1000, 100) #note that we begin at L=100 because for L < nb_particles=100, we can't assign an unique position on the line at each particle\n",
    "t_list = []\n",
    "\n",
    "for L_i in L_list :\n",
    "    t_list.append( random_moves(L_i, t) )"
   ]
  },
  {
   "cell_type": "code",
   "execution_count": 89,
   "metadata": {},
   "outputs": [
    {
     "data": {
      "image/png": "[encoded data removed]",
      "text/plain": [
       "<Figure size 720x432 with 1 Axes>"
      ]
     },
     "metadata": {
      "needs_background": "light"
     },
     "output_type": "display_data"
    }
   ],
   "source": [
    "plt.figure(figsize=(10,6))\n",
    "plt.title(\"Dependence of the code over the length L\")\n",
    "plt.xlabel(\"Length L\")\n",
    "plt.ylabel(\"Time t when n2 becomes dominant\")\n",
    "plt.plot(L_list, t_list)\n",
    "plt.xlim(100, 1000)\n",
    "plt.show()"
   ]
  },
  {
   "cell_type": "code",
   "execution_count": null,
   "metadata": {},
   "outputs": [],
   "source": []
  }
 ],
 "metadata": {
  "kernelspec": {
   "display_name": "Python 3 (ipykernel)",
   "language": "python",
   "name": "python3"
  },
  "language_info": {
   "codemirror_mode": {
    "name": "ipython",
    "version": 3
   },
   "file_extension": ".py",
   "mimetype": "text/x-python",
   "name": "python",
   "nbconvert_exporter": "python",
   "pygments_lexer": "ipython3",
   "version": "3.9.12"
  }
 },
 "nbformat": 4,
 "nbformat_minor": 4
}
