{
 "cells": [
  {
   "cell_type": "markdown",
   "metadata": {},
   "source": [
    "Randomly-colliding particles (2D)\n",
    "==="
   ]
  },
  {
   "cell_type": "code",
   "execution_count": 8,
   "metadata": {},
   "outputs": [],
   "source": [
    "import numpy as np\n",
    "import matplotlib.pyplot as plt\n",
    "from random import randint"
   ]
  },
  {
   "cell_type": "code",
   "execution_count": 9,
   "metadata": {},
   "outputs": [],
   "source": [
    "#Time range and small step :\n",
    "t0 = 0\n",
    "tf = 1\n",
    "t = np.linspace(t0, tf, 5000)\n",
    "tsize = np.size(t)\n",
    "\n",
    "#Length of the 2D square :\n",
    "L = 100"
   ]
  },
  {
   "cell_type": "markdown",
   "metadata": {},
   "source": [
    "### Initialisation"
   ]
  },
  {
   "cell_type": "code",
   "execution_count": 11,
   "metadata": {},
   "outputs": [
    {
     "name": "stdin",
     "output_type": "stream",
     "text": [
      "Enter the maximum particle size possible =  2\n",
      "Enter the initial condition of n_1 =  100\n",
      "Enter the initial condition of n_2 =  0\n"
     ]
    },
    {
     "name": "stdout",
     "output_type": "stream",
     "text": [
      "Number of particles =  100\n"
     ]
    }
   ],
   "source": [
    "#Maximum particle size :\n",
    "max_size = int(input(\"Enter the maximum particle size possible = \"))\n",
    "\n",
    "#Initial array of the concentration of population :\n",
    "n = np.zeros((tsize, max_size))\n",
    "nb_particles = 0\n",
    "\n",
    "for i in range(0, max_size):\n",
    "    n[0, i] = int(input(\"Enter the initial condition of n_%d = \" %(i+1)))\n",
    "    nb_particles = int(nb_particles + n[0, i])\n",
    "\n",
    "print(\"Number of particles = \", nb_particles)\n",
    "#print(n)"
   ]
  },
  {
   "cell_type": "code",
   "execution_count": 12,
   "metadata": {},
   "outputs": [
    {
     "name": "stdout",
     "output_type": "stream",
     "text": [
      "[ 42 132  92  48 107 111 140 163  38  26  62  19  94  76 162  52 109 130\n",
      "  78  72 108 117  77 149  92 149  57  90  82 121 159 131  64 116 113 111\n",
      "  37  81 112 116 138  94 123  48  65 115 153 110 160 103 141 100 101  21\n",
      " 129  78 138  60 137 130  50  91  80  39  51  48  21  89  53  38 100  56\n",
      " 140 111 178  87  62 107 104 103  55  25 136  56  80 127 189 111  70  71\n",
      "  99  88 136  41  82 105  73  83  70  55]\n",
      "[[ 1. 21. 77.]\n",
      " [ 1. 34. 18.]\n",
      " [ 1. 82. 81.]\n",
      " [ 1. 42. 26.]\n",
      " [ 1. 11. 86.]\n",
      " [ 1. 65. 90.]\n",
      " [ 1. 97. 52.]\n",
      " [ 1. 92. 82.]\n",
      " [ 1. 35. 50.]\n",
      " [ 1. 21. 37.]\n",
      " [ 1. 61. 35.]\n",
      " [ 1. 12. 27.]\n",
      " [ 1. 28. 61.]\n",
      " [ 1. 15. 74.]\n",
      " [ 1. 64. 48.]\n",
      " [ 1. 45. 43.]\n",
      " [ 1. 97. 69.]\n",
      " [ 1. 84. 75.]\n",
      " [ 1. 10. 17.]\n",
      " [ 1. 11. 88.]\n",
      " [ 1. 46. 94.]\n",
      " [ 1. 55. 26.]\n",
      " [ 1. 16. 25.]\n",
      " [ 1. 97. 86.]\n",
      " [ 1. 58. 30.]\n",
      " [ 1. 86.  6.]\n",
      " [ 1.  2. 11.]\n",
      " [ 1. 42. 36.]\n",
      " [ 1. 22. 12.]\n",
      " [ 1. 47. 85.]\n",
      " [ 1. 78.  2.]\n",
      " [ 1. 99. 83.]\n",
      " [ 1. 16.  0.]\n",
      " [ 1. 42. 97.]\n",
      " [ 1. 70. 36.]\n",
      " [ 1. 42.  1.]\n",
      " [ 1. 22. 66.]\n",
      " [ 1. 63. 52.]\n",
      " [ 1. 14. 11.]\n",
      " [ 1. 22.  8.]\n",
      " [ 1. 40. 43.]\n",
      " [ 1. 76. 77.]\n",
      " [ 1. 44. 33.]\n",
      " [ 1. 24. 40.]\n",
      " [ 1. 43. 16.]\n",
      " [ 1. 70. 12.]\n",
      " [ 1. 62. 35.]\n",
      " [ 1. 63. 13.]\n",
      " [ 1. 77. 40.]\n",
      " [ 1. 84. 56.]\n",
      " [ 1. 68. 52.]\n",
      " [ 1.  2. 35.]\n",
      " [ 1. 54. 58.]\n",
      " [ 1. 16.  2.]\n",
      " [ 1. 71. 13.]\n",
      " [ 1. 68. 32.]\n",
      " [ 1. 94. 69.]\n",
      " [ 1. 57. 74.]\n",
      " [ 1. 39. 45.]\n",
      " [ 1. 50. 65.]\n",
      " [ 1. 38. 99.]\n",
      " [ 1. 29.  3.]\n",
      " [ 1. 22. 91.]\n",
      " [ 1. 33. 59.]\n",
      " [ 1. 11. 89.]\n",
      " [ 1. 46. 26.]\n",
      " [ 1.  1. 17.]\n",
      " [ 1.  9. 38.]\n",
      " [ 1. 47. 33.]\n",
      " [ 1.  6. 81.]\n",
      " [ 1. 71. 64.]\n",
      " [ 1.  4. 27.]\n",
      " [ 1. 81. 76.]\n",
      " [ 1. 54. 83.]\n",
      " [ 1. 96. 26.]\n",
      " [ 1.  3.  7.]\n",
      " [ 1. 24. 42.]\n",
      " [ 1. 26. 20.]\n",
      " [ 1. 98. 80.]\n",
      " [ 1. 27.  9.]\n",
      " [ 1. 29. 55.]\n",
      " [ 1.  0. 29.]\n",
      " [ 1. 77. 19.]\n",
      " [ 1. 52. 58.]\n",
      " [ 1. 29. 66.]\n",
      " [ 1. 53. 52.]\n",
      " [ 1. 96. 42.]\n",
      " [ 1. 85. 90.]\n",
      " [ 1.  2. 84.]\n",
      " [ 1. 38. 38.]\n",
      " [ 1. 11. 33.]\n",
      " [ 1. 22. 82.]\n",
      " [ 1. 65. 57.]\n",
      " [ 1. 28. 77.]\n",
      " [ 1. 53.  3.]\n",
      " [ 1. 81. 83.]\n",
      " [ 1. 49. 66.]\n",
      " [ 1. 70. 81.]\n",
      " [ 1. 34. 99.]\n",
      " [ 1. 47. 74.]]\n"
     ]
    }
   ],
   "source": [
    "    \n",
    "sum_x = 0\n",
    "sum_y = 0\n",
    "\n",
    "for _ in (1,100) :   \n",
    "    \n",
    "    #Initial positions of nb_particles in the square of length L (without 2 particles at the same position) :\n",
    "    x_rand_positions = np.random.choice(L, nb_particles)\n",
    "    y_rand_positions = np.random.choice(L, nb_particles)\n",
    "    \n",
    "    sum_x = x_rand_positions + sum_x\n",
    "    sum_y = y_rand_positions + sum_y \n",
    "\n",
    "print(sum_x)\n",
    "    \n",
    "    #3D array of size + position for each particle : ps = [[size r_i, x_i, y_i], ...] :\n",
    "ps = np.empty([0,3])\n",
    "#sum_ps = np.empty([0,3])\n",
    "    #Add the right number of particles of size r according to the initial conditions given above :\n",
    "for i in range(max_size) :\n",
    "    ps = np.concatenate( (ps, (i+1)*np.ones([ int(n[0,i]) , 3])) )\n",
    "    \n",
    "    #Add the random positions x and y on the array\n",
    "for i in range(nb_particles) :\n",
    "    ps[i, 1] = x_rand_positions[i]\n",
    "    ps[i, 2] = y_rand_positions[i]\n",
    "    \n",
    "\n",
    "print(ps)\n"
   ]
  },
  {
   "cell_type": "code",
   "execution_count": 13,
   "metadata": {},
   "outputs": [
    {
     "data": {
      "image/png": "[encoded data removed]",
      "text/plain": [
       "<Figure size 576x576 with 1 Axes>"
      ]
     },
     "metadata": {
      "needs_background": "light"
     },
     "output_type": "display_data"
    }
   ],
   "source": [
    "#To keep the initial array in memory :\n",
    "ps_initial = ps\n",
    "\n",
    "#Color array (for particles of different sizes) :\n",
    "c = [\"darkred\", \"blue\", \"orange\", \"green\", \"purple\"]\n",
    "\n",
    "#Illustration of the initial distribution of particles in the square :\n",
    "plt.figure(figsize=(8,8))\n",
    "plt.xlim(0,L)\n",
    "plt.ylim(0,L)\n",
    "plt.xlabel(\"x\")\n",
    "plt.ylabel(\"y\")\n",
    "plt.title(\"Initial distribution of %d particles\" %(nb_particles))\n",
    "\n",
    "for r in range(1, max_size+1) :\n",
    "    count=0\n",
    "    for i in range(nb_particles) :\n",
    "        if ps_initial[i, 0] == r :\n",
    "            \n",
    "            #to have a legend for only ONE point of each size we use a variable count (it prints the legend only for count=1)\n",
    "            count = count+1\n",
    "            if count==1 :\n",
    "                plt.scatter(ps_initial[i, 1], ps_initial[i, 2], s=30*r, color=c[r-1], label=\"Size %d\"%(r))\n",
    "            else :\n",
    "                plt.scatter(ps_initial[i, 1], ps_initial[i, 2], s=30*r, color=c[r-1])\n",
    "\n",
    "plt.legend(loc=\"best\", shadow=\"True\", framealpha=0.2)\n",
    "plt.show()"
   ]
  },
  {
   "cell_type": "code",
   "execution_count": 14,
   "metadata": {},
   "outputs": [
    {
     "ename": "NameError",
     "evalue": "name 'random' is not defined",
     "output_type": "error",
     "traceback": [
      "\u001b[0;31m---------------------------------------------------------------------------\u001b[0m",
      "\u001b[0;31mNameError\u001b[0m                                 Traceback (most recent call last)",
      "\u001b[0;32m<ipython-input-14-fefd7ee44bcb>\u001b[0m in \u001b[0;36m<module>\u001b[0;34m\u001b[0m\n\u001b[1;32m      4\u001b[0m     \u001b[0;31m#Random moves of vertical or horizontal steps = +/- 1 for each particle :\u001b[0m\u001b[0;34m\u001b[0m\u001b[0;34m\u001b[0m\u001b[0;34m\u001b[0m\u001b[0m\n\u001b[1;32m      5\u001b[0m     \u001b[0;32mfor\u001b[0m \u001b[0mi\u001b[0m \u001b[0;32min\u001b[0m \u001b[0mrange\u001b[0m\u001b[0;34m(\u001b[0m\u001b[0mnp\u001b[0m\u001b[0;34m.\u001b[0m\u001b[0mshape\u001b[0m\u001b[0;34m(\u001b[0m\u001b[0mps\u001b[0m\u001b[0;34m)\u001b[0m\u001b[0;34m[\u001b[0m\u001b[0;36m0\u001b[0m\u001b[0;34m]\u001b[0m\u001b[0;34m)\u001b[0m \u001b[0;34m:\u001b[0m\u001b[0;34m\u001b[0m\u001b[0;34m\u001b[0m\u001b[0m\n\u001b[0;32m----> 6\u001b[0;31m         \u001b[0maxis\u001b[0m \u001b[0;34m=\u001b[0m \u001b[0mrandom\u001b[0m\u001b[0;34m.\u001b[0m\u001b[0mrandint\u001b[0m\u001b[0;34m(\u001b[0m\u001b[0;36m1\u001b[0m\u001b[0;34m,\u001b[0m \u001b[0;36m2\u001b[0m\u001b[0;34m)\u001b[0m \u001b[0;31m#x or y\u001b[0m\u001b[0;34m\u001b[0m\u001b[0;34m\u001b[0m\u001b[0m\n\u001b[0m\u001b[1;32m      7\u001b[0m         \u001b[0mdirection\u001b[0m \u001b[0;34m=\u001b[0m \u001b[0mrandom\u001b[0m\u001b[0;34m.\u001b[0m\u001b[0mrandint\u001b[0m\u001b[0;34m(\u001b[0m\u001b[0;36m1\u001b[0m\u001b[0;34m,\u001b[0m \u001b[0;36m2\u001b[0m\u001b[0;34m)\u001b[0m \u001b[0;31m#right or left ( for x) / up or down ( for y)\u001b[0m\u001b[0;34m\u001b[0m\u001b[0;34m\u001b[0m\u001b[0m\n\u001b[1;32m      8\u001b[0m         \u001b[0;32mif\u001b[0m \u001b[0maxis\u001b[0m\u001b[0;34m==\u001b[0m \u001b[0;36m1\u001b[0m\u001b[0;34m:\u001b[0m \u001b[0;31m#x\u001b[0m\u001b[0;34m\u001b[0m\u001b[0;34m\u001b[0m\u001b[0m\n",
      "\u001b[0;31mNameError\u001b[0m: name 'random' is not defined"
     ]
    }
   ],
   "source": [
    "#For every time t :\n",
    "for t_i in range(1, tsize) : \n",
    "    \n",
    "    #Random moves of vertical or horizontal steps = +/- 1 for each particle :\n",
    "    for i in range(np.shape(ps)[0]) :\n",
    "        axis = random.randint(1, 2) #x or y\n",
    "        direction = random.randint(1, 2) #right or left ( for x) / up or down ( for y)\n",
    "        if axis== 1: #x\n",
    "            if direction==1: #right\n",
    "                ps[i, 1] += 1\n",
    "            elif direction==2: #left\n",
    "                ps[i, 1] -= 1\n",
    "        elif axis==2 : #y\n",
    "            if direction==1: #up\n",
    "                ps[i, 2] += 1\n",
    "            elif direction==2: #down\n",
    "                ps[i, 2] -= 1\n",
    "                \n",
    "    #Initialisation of concentrations for each size r :\n",
    "    #If there are no collisions at t_i, they will stay as they were at t_i-1\n",
    "    for r in range(max_size) :\n",
    "        n[t_i, r] = n[ t_i-1, r]\n",
    "\n",
    "    #Collisions and evolution of concentrations :\n",
    "    for i in range( np.shape(ps)[0] ) :\n",
    "        for j in range( i+1, np.shape(ps)[0]-1 ) :\n",
    "            \n",
    "            if abs(ps[i, 1] - ps[j, 1]) < 1 and abs(ps[i, 2] - ps[j, 2]) < 1 :  \n",
    "            # distance between 2 particles smaller than spatial step in axis x and y\n",
    "                \n",
    "                if ps[i, 0] + ps[j, 0] <= max_size : # AND collision allowed by the maximum particle size\n",
    "                    \n",
    "                    #Loss in concentration from particle i and j which are colliding :\n",
    "                    #EXAMPLE : if particle i is size s_i=1, ps[i,0]=1 so its corresponding concentration is n[t,0]=n[t, ps[i,0-1] ]\n",
    "                    n[ t_i, int(ps[i,0]-1) ] -= 1 \n",
    "                    n[ t_i, int(ps[j,0]-1) ] -= 1 \n",
    "                    \n",
    "                    #the size of the new particle created by the collision increases ;\n",
    "                    #we stock this new particle in the index i\n",
    "                    ps[i, 0] = ps[i, 0] + ps[j, 0]\n",
    "                    \n",
    "                    #Gain in concentration of size s_i+s_j = ps[i,0] according to the eq above :\n",
    "                    n[ t_i, int(ps[i, 0]-1) ] += 1\n",
    "                    \n",
    "                    #The particle j is removed from the array :\n",
    "                    ps = np.delete(ps, j, 0)"
   ]
  },
  {
   "cell_type": "code",
   "execution_count": 15,
   "metadata": {},
   "outputs": [
    {
     "data": {
      "image/png": "[encoded data removed]",
      "text/plain": [
       "<Figure size 720x432 with 1 Axes>"
      ]
     },
     "metadata": {
      "needs_background": "light"
     },
     "output_type": "display_data"
    }
   ],
   "source": [
    "#Plot of the evolution of the concentrations :\n",
    "plt.figure(figsize=(10,6))\n",
    "plt.title(\"Evolution of the particle concentrations (using random motion)\")\n",
    "plt.xlabel(\"Time t (s)\")\n",
    "plt.ylabel(\"Particle concentration\")\n",
    "for r in range(max_size) :\n",
    "    plt.plot(t, n[:, r], label=\"n%d\"%(r+1))\n",
    "plt.legend()\n",
    "plt.show()"
   ]
  },
  {
   "cell_type": "markdown",
   "metadata": {},
   "source": [
    "### Conservation of the total mass"
   ]
  },
  {
   "cell_type": "code",
   "execution_count": 16,
   "metadata": {},
   "outputs": [
    {
     "data": {
      "image/png": "[encoded data removed]",
      "text/plain": [
       "<Figure size 576x288 with 1 Axes>"
      ]
     },
     "metadata": {
      "needs_background": "light"
     },
     "output_type": "display_data"
    }
   ],
   "source": [
    "#Total mass :\n",
    "def M(n) :\n",
    "    sum=0\n",
    "    for r in range(max_size) :\n",
    "        sum = sum + (r+1)*n[:, r]\n",
    "    return sum\n",
    "\n",
    "plt.figure(figsize=(8,4))\n",
    "plt.title(\"Evolution of the total mass (using the randomly moving particles in 2D)\")\n",
    "plt.xlabel(\"Time t (s)\")\n",
    "plt.ylabel(\"Total mass\")\n",
    "plt.ylim(98,102)\n",
    "plt.plot(t, M(n))\n",
    "plt.show()"
   ]
  },
  {
   "cell_type": "markdown",
   "metadata": {},
   "source": [
    "### Illustration"
   ]
  },
  {
   "cell_type": "code",
   "execution_count": 17,
   "metadata": {},
   "outputs": [
    {
     "data": {
      "image/png": "[encoded data removed]",
      "text/plain": [
       "<Figure size 576x576 with 1 Axes>"
      ]
     },
     "metadata": {
      "needs_background": "light"
     },
     "output_type": "display_data"
    }
   ],
   "source": [
    "#Final distribution of particles in the square :\n",
    "plt.figure(figsize=(8,8))\n",
    "#plt.xlim(0,L)\n",
    "#plt.ylim(0,L)\n",
    "plt.xlabel(\"x\")\n",
    "plt.ylabel(\"y\")\n",
    "plt.title(\"Final distribution of the particles after collisions\")\n",
    "for r in range(1, max_size+1) :\n",
    "    count=0\n",
    "    for i in range(np.shape(ps)[0]) :\n",
    "        if ps[i, 0] == r :\n",
    "            count = count+1\n",
    "            if count==1 :\n",
    "                plt.scatter(ps[i, 1], ps[i, 2], s=30*r, color=c[r-1], label=\"Size %d\"%(r))\n",
    "            else :\n",
    "                plt.scatter(ps[i, 1], ps[i, 2], s=30*r, color=c[r-1])\n",
    "plt.legend(loc=\"best\", shadow=\"True\", framealpha=0.4)\n",
    "plt.show()"
   ]
  },
  {
   "cell_type": "code",
   "execution_count": 18,
   "metadata": {},
   "outputs": [
    {
     "ename": "ValueError",
     "evalue": "setting an array element with a sequence.",
     "output_type": "error",
     "traceback": [
      "\u001b[0;31m---------------------------------------------------------------------------\u001b[0m",
      "\u001b[0;31mTypeError\u001b[0m                                 Traceback (most recent call last)",
      "\u001b[0;31mTypeError\u001b[0m: only size-1 arrays can be converted to Python scalars",
      "\nThe above exception was the direct cause of the following exception:\n",
      "\u001b[0;31mValueError\u001b[0m                                Traceback (most recent call last)",
      "\u001b[0;32m<ipython-input-18-942e755f9ea7>\u001b[0m in \u001b[0;36m<module>\u001b[0;34m\u001b[0m\n\u001b[1;32m      5\u001b[0m \u001b[0;34m\u001b[0m\u001b[0m\n\u001b[1;32m      6\u001b[0m     \u001b[0;31m#Initial positions of nb_particles in the square of length L (without 2 particles at the same position) :\u001b[0m\u001b[0;34m\u001b[0m\u001b[0;34m\u001b[0m\u001b[0;34m\u001b[0m\u001b[0m\n\u001b[0;32m----> 7\u001b[0;31m     \u001b[0mx_rand_positions\u001b[0m\u001b[0;34m[\u001b[0m\u001b[0mj\u001b[0m\u001b[0;34m]\u001b[0m \u001b[0;34m=\u001b[0m \u001b[0mnp\u001b[0m\u001b[0;34m.\u001b[0m\u001b[0mrandom\u001b[0m\u001b[0;34m.\u001b[0m\u001b[0mchoice\u001b[0m\u001b[0;34m(\u001b[0m\u001b[0mL\u001b[0m\u001b[0;34m,\u001b[0m \u001b[0mnb_particles\u001b[0m\u001b[0;34m)\u001b[0m\u001b[0;34m\u001b[0m\u001b[0;34m\u001b[0m\u001b[0m\n\u001b[0m\u001b[1;32m      8\u001b[0m     \u001b[0my_rand_positions\u001b[0m\u001b[0;34m[\u001b[0m\u001b[0mj\u001b[0m\u001b[0;34m]\u001b[0m \u001b[0;34m=\u001b[0m \u001b[0mnp\u001b[0m\u001b[0;34m.\u001b[0m\u001b[0mrandom\u001b[0m\u001b[0;34m.\u001b[0m\u001b[0mchoice\u001b[0m\u001b[0;34m(\u001b[0m\u001b[0mL\u001b[0m\u001b[0;34m,\u001b[0m \u001b[0mnb_particles\u001b[0m\u001b[0;34m)\u001b[0m\u001b[0;34m\u001b[0m\u001b[0;34m\u001b[0m\u001b[0m\n\u001b[1;32m      9\u001b[0m \u001b[0;34m\u001b[0m\u001b[0m\n",
      "\u001b[0;31mValueError\u001b[0m: setting an array element with a sequence."
     ]
    }
   ],
   "source": [
    "sum_x = 0\n",
    "sum_y = 0\n",
    "an_sum_x = 0\n",
    "for j in (1,100) :   \n",
    "    \n",
    "    #Initial positions of nb_particles in the square of length L (without 2 particles at the same position) :\n",
    "    x_rand_positions[j] = np.random.choice(L, nb_particles)\n",
    "    y_rand_positions[j] = np.random.choice(L, nb_particles)\n",
    "    \n",
    "    sum_x = x_rand_positions[j] + sum_x\n",
    "    sum_y = y_rand_positions[j] + sum_y \n",
    "\n",
    "print(sum_x)"
   ]
  },
  {
   "cell_type": "code",
   "execution_count": null,
   "metadata": {},
   "outputs": [],
   "source": []
  },
  {
   "cell_type": "code",
   "execution_count": null,
   "metadata": {},
   "outputs": [],
   "source": []
  }
 ],
 "metadata": {
  "kernelspec": {
   "display_name": "Default",
   "language": "python",
   "name": "python3"
  },
  "language_info": {
   "codemirror_mode": {
    "name": "ipython",
    "version": 3
   },
   "file_extension": ".py",
   "mimetype": "text/x-python",
   "name": "python",
   "nbconvert_exporter": "python",
   "pygments_lexer": "ipython3",
   "version": "3.8.12"
  }
 },
 "nbformat": 4,
 "nbformat_minor": 4
}
