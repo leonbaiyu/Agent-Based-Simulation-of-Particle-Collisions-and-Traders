{
 "cells": [
  {
   "cell_type": "code",
   "execution_count": 1,
   "metadata": {},
   "outputs": [],
   "source": [
    "import numpy as np\n",
    "import matplotlib.pyplot as plt\n",
    "from scipy import stats\n",
    "from scipy import optimize\n",
    "import random"
   ]
  },
  {
   "cell_type": "code",
   "execution_count": 2,
   "metadata": {},
   "outputs": [],
   "source": [
    "#Time range and small step :\n",
    "t0 = 0\n",
    "tf = 1\n",
    "t = np.linspace(t0, tf, 5000)\n",
    "span = np.size(t)\n",
    "dt = (tf-t0)/span"
   ]
  },
  {
   "cell_type": "code",
   "execution_count": 4,
   "metadata": {},
   "outputs": [
    {
     "name": "stdin",
     "output_type": "stream",
     "text": [
      "Enter the maximum particle size possible =  3\n",
      "Enter the initial condition of n_1 =  50\n",
      "Enter the initial condition of n_2 =  0\n",
      "Enter the initial condition of n_3 =  0\n"
     ]
    }
   ],
   "source": [
    "max_size = int(input(\"Enter the maximum particle size possible = \"))\n",
    "tot = 0\n",
    "\n",
    "# Array of number of particles \n",
    "for i in range(max_size):\n",
    "    globals()['n%s' % (i+1)] = [int(input(\"Enter the initial condition of n_%d = \" %(i+1)))]\n",
    "    tot = tot + globals()['n%s' % (i+1)][0]\n",
    "    \n",
    "# choose 3, 50, 0, 0 for standard cases and short calculations\n",
    "# tot is number of initial particles\n",
    "# max_size is maximum size of particles"
   ]
  },
  {
   "cell_type": "code",
   "execution_count": 5,
   "metadata": {},
   "outputs": [
    {
     "name": "stdout",
     "output_type": "stream",
     "text": [
      "50\n",
      "[50]\n",
      "[0]\n",
      "[0]\n"
     ]
    }
   ],
   "source": [
    "print(tot)\n",
    "# print(globals())\n",
    "\n",
    "for i in range(max_size):\n",
    "    print(globals()['n%s' % (i+1)])"
   ]
  },
  {
   "cell_type": "code",
   "execution_count": 6,
   "metadata": {},
   "outputs": [],
   "source": [
    "x = np.zeros((tot, span+1))"
   ]
  },
  {
   "cell_type": "code",
   "execution_count": null,
   "metadata": {},
   "outputs": [],
   "source": [
    "partial = 0\n",
    "n0 = [0]\n",
    "\n",
    "for a in range (max_size):\n",
    "    \n",
    "    partial += globals()['n%s' % (a)][0]\n",
    "    \n",
    "    for b in range(tot):\n",
    "        \n",
    "        if (partial <= b < (globals()['n%s' % (a+1)][0]+partial)):\n",
    "            \n",
    "            x[b,0] = a+1\n",
    "        \n",
    "        else:\n",
    "            continue;"
   ]
  },
  {
   "cell_type": "code",
   "execution_count": null,
   "metadata": {},
   "outputs": [],
   "source": [
    "for k in range(tot):\n",
    "    #x[k,1] = random.randint(0,400)\n",
    "    x[k,1] = round(random.uniform(0,400),3)\n",
    "    \n",
    "    for c in range (tot):\n",
    "        \n",
    "        for d in range(c+1, tot):\n",
    "            \n",
    "            if (x[c,1] == x[d,1]):\n",
    "                \n",
    "                x[c,1] =round(random.uniform(0,400),3)"
   ]
  },
  {
   "cell_type": "code",
   "execution_count": null,
   "metadata": {},
   "outputs": [],
   "source": [
    "print(x)"
   ]
  },
  {
   "cell_type": "code",
   "execution_count": null,
   "metadata": {},
   "outputs": [],
   "source": [
    "for time in range(2, span+1):\n",
    "    \n",
    "    for r in range(max_size):\n",
    "        \n",
    "        globals()['collisions%s' % (r+1)] = [0]\n",
    "        globals()['losses%s' % (r+1)] = [0]\n",
    "    \n",
    "    for a in range(tot):\n",
    "        \n",
    "        for b in range(a+1, tot):\n",
    "            \n",
    "            if (0 < abs(x[a,time-1]-x[b,time-1])<=1):\n",
    "                \n",
    "                if x[a,0] + x[b,0] <= max_size:\n",
    "                    \n",
    "                    globals()['collisions%s' % (int(x[a,0] + x[b,0]))][0] += 1\n",
    "                    globals()['losses%s' % (int(x[a,0]))][0] += 1\n",
    "                    globals()['losses%s'% (int(x[b,0]))][0] += 1\n",
    "                    \n",
    "                    x[a,time-1] = x[b,time-1]\n",
    "                    x[a,0] += x[b,0]\n",
    "                    x[b,0] = x[a,0]\n",
    "                            \n",
    "                else:\n",
    "                    continue;\n",
    "            \n",
    "            else:\n",
    "                continue;\n",
    "\n",
    "    for r1 in range(max_size):\n",
    "        globals()['n%s' % (r1+1)].append(globals()['n%s' % (r1+1)][time-2]+(globals()['collisions%s' % (r1+1)][0]- globals()['losses%s' % (r1+1)][0]))\n",
    "    \n",
    "    for a1 in range(tot):\n",
    "        \n",
    "        chance = random.uniform(-1,1)\n",
    "        \n",
    "        if (chance >=0 and chance <=1):\n",
    "            v=1\n",
    "        \n",
    "        else:\n",
    "            v=-1\n",
    "                    \n",
    "        x[a1,time] = x[a1,time-1] + v\n",
    "    \n",
    "    for a2 in range(tot):\n",
    "        \n",
    "        for b2 in range(tot):\n",
    "            \n",
    "            if (x[a2,time-1]==x[b2, time-1]):\n",
    "                \n",
    "                x[a2,time] = x[b2, time]\n",
    "            \n",
    "            else:\n",
    "                continue;"
   ]
  },
  {
   "cell_type": "code",
   "execution_count": null,
   "metadata": {},
   "outputs": [],
   "source": [
    "# print(x)"
   ]
  },
  {
   "cell_type": "code",
   "execution_count": null,
   "metadata": {},
   "outputs": [],
   "source": [
    "# print(n1)"
   ]
  },
  {
   "cell_type": "code",
   "execution_count": null,
   "metadata": {},
   "outputs": [],
   "source": [
    "# print(n2)"
   ]
  },
  {
   "cell_type": "code",
   "execution_count": null,
   "metadata": {},
   "outputs": [],
   "source": [
    "# print(n3)"
   ]
  },
  {
   "cell_type": "code",
   "execution_count": null,
   "metadata": {},
   "outputs": [],
   "source": [
    "plt.figure(figsize=(10,6))\n",
    "plt.plot(t, n1,label = 'n1')\n",
    "plt.plot(t ,n2,label = 'n2')\n",
    "plt.plot(t, n3, label = 'n3')\n",
    "#plt.xlim(-0.01, 0.2)\n",
    "plt.legend()"
   ]
  },
  {
   "cell_type": "code",
   "execution_count": null,
   "metadata": {},
   "outputs": [],
   "source": [
    "#this part will tackle the mass conservation check:\n",
    "Mass = []\n",
    "for mit in range(span):\n",
    "    mass = 0\n",
    "    \n",
    "    for mat in range(max_size):\n",
    "        \n",
    "        mass += globals()['n%s' % (mat+1)][mit] * (mat+1)\n",
    "    \n",
    "    Mass.append(mass)"
   ]
  },
  {
   "cell_type": "code",
   "execution_count": null,
   "metadata": {},
   "outputs": [],
   "source": [
    "plt.plot(t, Mass)"
   ]
  },
  {
   "cell_type": "code",
   "execution_count": null,
   "metadata": {},
   "outputs": [],
   "source": [
    "#for showing random walks\n",
    "plt.figure(figsize = (12,7))\n",
    "for f in range(tot):\n",
    "    plt.plot(t, x[f,1:])"
   ]
  },
  {
   "cell_type": "code",
   "execution_count": null,
   "metadata": {},
   "outputs": [],
   "source": []
  }
 ],
 "metadata": {
  "kernelspec": {
   "display_name": "Python 3 (ipykernel)",
   "language": "python",
   "name": "python3"
  },
  "language_info": {
   "codemirror_mode": {
    "name": "ipython",
    "version": 3
   },
   "file_extension": ".py",
   "mimetype": "text/x-python",
   "name": "python",
   "nbconvert_exporter": "python",
   "pygments_lexer": "ipython3",
   "version": "3.9.12"
  }
 },
 "nbformat": 4,
 "nbformat_minor": 4
}
