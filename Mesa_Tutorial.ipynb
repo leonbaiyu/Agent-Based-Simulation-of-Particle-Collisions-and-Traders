{
 "cells": [
  {
   "cell_type": "markdown",
   "id": "8edca9ee-c38e-433a-a000-20017e1c37a0",
   "metadata": {},
   "source": [
    "Basic model design"
   ]
  },
  {
   "cell_type": "code",
   "execution_count": 1,
   "id": "8ec9ae78-d74b-4dc9-afe7-f7a1a58ca8eb",
   "metadata": {},
   "outputs": [],
   "source": [
    "import mesa\n",
    "\n",
    "\n",
    "class MoneyAgent(mesa.Agent):\n",
    "    \"\"\"An agent with fixed initial wealth.\"\"\"\n",
    "\n",
    "    def __init__(self, unique_id, model):\n",
    "        super().__init__(unique_id, model)\n",
    "        self.wealth = 1\n",
    "\n",
    "\n",
    "class MoneyModel(mesa.Model):\n",
    "    \"\"\"A model with some number of agents.\"\"\"\n",
    "\n",
    "    def __init__(self, N):\n",
    "        self.num_agents = N\n",
    "        # Create agents\n",
    "        for i in range(self.num_agents):\n",
    "            a = MoneyAgent(i, self)"
   ]
  },
  {
   "cell_type": "markdown",
   "id": "47f081e2-0c2b-42cf-a436-bbf769d80ad3",
   "metadata": {},
   "source": [
    "Introducing time and scheduling"
   ]
  },
  {
   "cell_type": "code",
   "execution_count": 6,
   "id": "2d4c04dd-127a-4bfa-8ef2-77876e12c8a2",
   "metadata": {},
   "outputs": [],
   "source": [
    "import mesa\n",
    "\n",
    "\n",
    "class MoneyAgent(mesa.Agent):\n",
    "    \"\"\"An agent with fixed initial wealth.\"\"\"\n",
    "\n",
    "    def __init__(self, unique_id, model):\n",
    "        super().__init__(unique_id, model)\n",
    "        self.wealth = 1\n",
    "\n",
    "    def step(self):\n",
    "        # The agent's step will go here.\n",
    "        # For demonstration purposes we will print the agent's unique_id\n",
    "        print(\"Hi, I am agent \" + str(self.unique_id) + \". My wealth is \" + str(self.wealth))\n",
    "\n",
    "\n",
    "class MoneyModel(mesa.Model):\n",
    "    \"\"\"A model with some number of agents.\"\"\"\n",
    "\n",
    "    def __init__(self, N):\n",
    "        self.num_agents = N\n",
    "        self.schedule = mesa.time.RandomActivation(self)\n",
    "        # Create agents\n",
    "        for i in range(self.num_agents):\n",
    "            a = MoneyAgent(i, self)\n",
    "            self.schedule.add(a)\n",
    "\n",
    "    def step(self):\n",
    "        \"\"\"Advance the model by one step.\"\"\"\n",
    "        self.schedule.step() # randomly selects from all agents"
   ]
  },
  {
   "cell_type": "markdown",
   "id": "b1b6a30f-b749-4b82-af2a-b275cf793aec",
   "metadata": {},
   "source": [
    "Can iterate one step of the model as shown below:"
   ]
  },
  {
   "cell_type": "code",
   "execution_count": 7,
   "id": "6cfe121c-f825-4bed-b42e-c6a7aa8f9878",
   "metadata": {},
   "outputs": [
    {
     "name": "stdout",
     "output_type": "stream",
     "text": [
      "Hi, I am agent 1. My wealth is 1\n",
      "Hi, I am agent 5. My wealth is 1\n",
      "Hi, I am agent 3. My wealth is 1\n",
      "Hi, I am agent 8. My wealth is 1\n",
      "Hi, I am agent 6. My wealth is 1\n",
      "Hi, I am agent 2. My wealth is 1\n",
      "Hi, I am agent 7. My wealth is 1\n",
      "Hi, I am agent 0. My wealth is 1\n",
      "Hi, I am agent 9. My wealth is 1\n",
      "Hi, I am agent 4. My wealth is 1\n"
     ]
    }
   ],
   "source": [
    "empty_model = MoneyModel(10)\n",
    "empty_model.step() "
   ]
  },
  {
   "cell_type": "markdown",
   "id": "931e1912-e5a4-46f3-8d58-dbabef2d2852",
   "metadata": {},
   "source": [
    "Rewriting agent step method to undergo an exchange (random exchange of wealth)"
   ]
  },
  {
   "cell_type": "code",
   "execution_count": 8,
   "id": "6452c71b-7734-4f04-b740-07e6dd16713d",
   "metadata": {},
   "outputs": [],
   "source": [
    "class MoneyAgent(mesa.Agent):\n",
    "    \"\"\"An agent with fixed initial wealth.\"\"\"\n",
    "\n",
    "    def __init__(self, unique_id, model):\n",
    "        super().__init__(unique_id, model)\n",
    "        self.wealth = 1\n",
    "\n",
    "    def step(self):\n",
    "        if self.wealth == 0:\n",
    "            return\n",
    "        other_agent = self.random.choice(self.model.schedule.agents)\n",
    "        other_agent.wealth += 1\n",
    "        self.wealth -= 1\n"
   ]
  },
  {
   "cell_type": "markdown",
   "id": "6a7c11e0-90c1-41b1-a20d-94101ae165fa",
   "metadata": {},
   "source": [
    "Running this model"
   ]
  },
  {
   "cell_type": "code",
   "execution_count": 16,
   "id": "0b8f5891-b57e-454e-a459-ef4291f2f366",
   "metadata": {},
   "outputs": [],
   "source": [
    "model = MoneyModel(10)\n",
    "for i in range(10):\n",
    "    model.step()"
   ]
  },
  {
   "cell_type": "markdown",
   "id": "189e1e18-4961-465f-ac7a-1fb62bb2a726",
   "metadata": {},
   "source": [
    "We now want to visualise this data"
   ]
  },
  {
   "cell_type": "code",
   "execution_count": 17,
   "id": "57f3eabe-cee7-496a-9dff-c2ab8fae06ba",
   "metadata": {},
   "outputs": [
    {
     "data": {
      "text/plain": [
       "(array([2., 0., 0., 0., 0., 6., 0., 0., 0., 2.]),\n",
       " array([0. , 0.2, 0.4, 0.6, 0.8, 1. , 1.2, 1.4, 1.6, 1.8, 2. ]),\n",
       " <BarContainer object of 10 artists>)"
      ]
     },
     "execution_count": 17,
     "metadata": {},
     "output_type": "execute_result"
    },
    {
     "data": {
      "image/png": "[encoded data removed]",
      "text/plain": [
       "<Figure size 640x480 with 1 Axes>"
      ]
     },
     "metadata": {},
     "output_type": "display_data"
    }
   ],
   "source": [
    "# The below is needed for both notebooks and scripts\n",
    "import matplotlib.pyplot as plt\n",
    "\n",
    "agent_wealth = [a.wealth for a in model.schedule.agents]\n",
    "plt.hist(agent_wealth)"
   ]
  },
  {
   "cell_type": "markdown",
   "id": "389597d2-444f-4af3-9ec7-a1d5349810a9",
   "metadata": {},
   "source": [
    "Can repeat these runs to see the distribution that emerges from them \n",
    "\n",
    "- This is an alternative to doing a run with many individuals"
   ]
  },
  {
   "cell_type": "code",
   "execution_count": 18,
   "id": "4053ecaf-5d44-48e8-ad80-53af709c4eb9",
   "metadata": {},
   "outputs": [
    {
     "data": {
      "text/plain": [
       "(array([442., 289., 153.,  75.,  26.,  15.]),\n",
       " array([0, 1, 2, 3, 4, 5, 6]),\n",
       " <BarContainer object of 6 artists>)"
      ]
     },
     "execution_count": 18,
     "metadata": {},
     "output_type": "execute_result"
    },
    {
     "data": {
      "image/png": "[encoded data removed]",
      "text/plain": [
       "<Figure size 640x480 with 1 Axes>"
      ]
     },
     "metadata": {},
     "output_type": "display_data"
    }
   ],
   "source": [
    "all_wealth = []\n",
    "# This runs the model 100 times, each model executing 10 steps.\n",
    "for j in range(100):\n",
    "    # Run the model\n",
    "    model = MoneyModel(10)\n",
    "    for i in range(10):\n",
    "        model.step()\n",
    "\n",
    "    # Store the results\n",
    "    for agent in model.schedule.agents:\n",
    "        all_wealth.append(agent.wealth)\n",
    "\n",
    "plt.hist(all_wealth, bins=range(max(all_wealth) + 1))"
   ]
  }
 ],
 "metadata": {
  "kernelspec": {
   "display_name": "Python 3 (ipykernel)",
   "language": "python",
   "name": "python3"
  },
  "language_info": {
   "codemirror_mode": {
    "name": "ipython",
    "version": 3
   },
   "file_extension": ".py",
   "mimetype": "text/x-python",
   "name": "python",
   "nbconvert_exporter": "python",
   "pygments_lexer": "ipython3",
   "version": "3.9.13"
  }
 },
 "nbformat": 4,
 "nbformat_minor": 5
}
