{
 "cells": [
  {
   "cell_type": "markdown",
   "id": "8edca9ee-c38e-433a-a000-20017e1c37a0",
   "metadata": {},
   "source": [
    "Basic model design"
   ]
  },
  {
   "cell_type": "code",
   "execution_count": 2,
   "id": "8ec9ae78-d74b-4dc9-afe7-f7a1a58ca8eb",
   "metadata": {},
   "outputs": [],
   "source": [
    "import mesa\n",
    "\n",
    "\n",
    "class MoneyAgent(mesa.Agent):\n",
    "    \"\"\"An agent with fixed initial wealth.\"\"\"\n",
    "\n",
    "    def __init__(self, unique_id, model):\n",
    "        super().__init__(unique_id, model)\n",
    "        self.wealth = 1\n",
    "\n",
    "\n",
    "class MoneyModel(mesa.Model):\n",
    "    \"\"\"A model with some number of agents.\"\"\"\n",
    "\n",
    "    def __init__(self, N):\n",
    "        self.num_agents = N\n",
    "        # Create agents\n",
    "        for i in range(self.num_agents):\n",
    "            a = MoneyAgent(i, self)"
   ]
  },
  {
   "cell_type": "markdown",
   "id": "47f081e2-0c2b-42cf-a436-bbf769d80ad3",
   "metadata": {},
   "source": [
    "Introducing time and scheduling"
   ]
  },
  {
   "cell_type": "code",
   "execution_count": 3,
   "id": "2d4c04dd-127a-4bfa-8ef2-77876e12c8a2",
   "metadata": {},
   "outputs": [],
   "source": [
    "import mesa\n",
    "\n",
    "\n",
    "class MoneyAgent(mesa.Agent):\n",
    "    \"\"\"An agent with fixed initial wealth.\"\"\"\n",
    "\n",
    "    def __init__(self, unique_id, model):\n",
    "        super().__init__(unique_id, model)\n",
    "        self.wealth = 1\n",
    "\n",
    "    def step(self):\n",
    "        # The agent's step will go here.\n",
    "        # For demonstration purposes we will print the agent's unique_id\n",
    "        print(\"Hi, I am agent \" + str(self.unique_id) + \". My wealth is \" + str(self.wealth))\n",
    "        # print(self.schedule.agents)\n",
    "\n",
    "\n",
    "class MoneyModel(mesa.Model):\n",
    "    \"\"\"A model with some number of agents.\"\"\"\n",
    "\n",
    "    def __init__(self, N):\n",
    "        self.num_agents = N\n",
    "        self.schedule = mesa.time.RandomActivation(self)\n",
    "        # Create agents\n",
    "        for i in range(self.num_agents):\n",
    "            a = MoneyAgent(i, self)\n",
    "            self.schedule.add(a)\n",
    "\n",
    "    def step(self):\n",
    "        \"\"\"Advance the model by one step.\"\"\"\n",
    "        self.schedule.step() # randomly selects from all agents"
   ]
  },
  {
   "cell_type": "markdown",
   "id": "b1b6a30f-b749-4b82-af2a-b275cf793aec",
   "metadata": {},
   "source": [
    "Can iterate one step of the model as shown below:"
   ]
  },
  {
   "cell_type": "code",
   "execution_count": 4,
   "id": "6cfe121c-f825-4bed-b42e-c6a7aa8f9878",
   "metadata": {},
   "outputs": [
    {
     "name": "stdout",
     "output_type": "stream",
     "text": [
      "Hi, I am agent 9. My wealth is 1\n",
      "Hi, I am agent 6. My wealth is 1\n",
      "Hi, I am agent 3. My wealth is 1\n",
      "Hi, I am agent 4. My wealth is 1\n",
      "Hi, I am agent 1. My wealth is 1\n",
      "Hi, I am agent 7. My wealth is 1\n",
      "Hi, I am agent 2. My wealth is 1\n",
      "Hi, I am agent 8. My wealth is 1\n",
      "Hi, I am agent 5. My wealth is 1\n",
      "Hi, I am agent 0. My wealth is 1\n"
     ]
    }
   ],
   "source": [
    "empty_model = MoneyModel(10)\n",
    "empty_model.step() "
   ]
  },
  {
   "cell_type": "markdown",
   "id": "931e1912-e5a4-46f3-8d58-dbabef2d2852",
   "metadata": {},
   "source": [
    "Rewriting agent step method to undergo an exchange (random exchange of wealth)"
   ]
  },
  {
   "cell_type": "code",
   "execution_count": 5,
   "id": "6452c71b-7734-4f04-b740-07e6dd16713d",
   "metadata": {},
   "outputs": [],
   "source": [
    "class MoneyAgent(mesa.Agent):\n",
    "    \"\"\"An agent with fixed initial wealth.\"\"\"\n",
    "\n",
    "    def __init__(self, unique_id, model):\n",
    "        super().__init__(unique_id, model)\n",
    "        self.wealth = 1\n",
    "\n",
    "    def step(self):\n",
    "        if self.wealth == 0:\n",
    "            return\n",
    "        other_agent = self.random.choice(self.model.schedule.agents)\n",
    "        # print(f'self:{self.unique_id}, other:{other_agent.unique_id}')\n",
    "        other_agent.wealth += 1\n",
    "        self.wealth -= 1\n"
   ]
  },
  {
   "cell_type": "markdown",
   "id": "6a7c11e0-90c1-41b1-a20d-94101ae165fa",
   "metadata": {},
   "source": [
    "Running this model"
   ]
  },
  {
   "cell_type": "code",
   "execution_count": 6,
   "id": "0b8f5891-b57e-454e-a459-ef4291f2f366",
   "metadata": {},
   "outputs": [],
   "source": [
    "model = MoneyModel(10)\n",
    "for i in range(10):\n",
    "    model.step()"
   ]
  },
  {
   "cell_type": "markdown",
   "id": "189e1e18-4961-465f-ac7a-1fb62bb2a726",
   "metadata": {},
   "source": [
    "We now want to visualise this data"
   ]
  },
  {
   "cell_type": "code",
   "execution_count": 7,
   "id": "57f3eabe-cee7-496a-9dff-c2ab8fae06ba",
   "metadata": {},
   "outputs": [
    {
     "data": {
      "text/plain": [
       "(array([4., 0., 0., 4., 0., 0., 0., 0., 0., 2.]),\n",
       " array([0. , 0.3, 0.6, 0.9, 1.2, 1.5, 1.8, 2.1, 2.4, 2.7, 3. ]),\n",
       " <BarContainer object of 10 artists>)"
      ]
     },
     "execution_count": 7,
     "metadata": {},
     "output_type": "execute_result"
    },
    {
     "data": {
      "image/png": "[encoded data removed]",
      "text/plain": [
       "<Figure size 640x480 with 1 Axes>"
      ]
     },
     "metadata": {},
     "output_type": "display_data"
    }
   ],
   "source": [
    "# The below is needed for both notebooks and scripts\n",
    "import matplotlib.pyplot as plt\n",
    "\n",
    "agent_wealth = [a.wealth for a in model.schedule.agents]\n",
    "plt.hist(agent_wealth)"
   ]
  },
  {
   "cell_type": "markdown",
   "id": "389597d2-444f-4af3-9ec7-a1d5349810a9",
   "metadata": {},
   "source": [
    "Can repeat these runs to see the distribution that emerges from them \n",
    "\n",
    "- This is an alternative to doing a run with many individuals"
   ]
  },
  {
   "cell_type": "code",
   "execution_count": 8,
   "id": "4053ecaf-5d44-48e8-ad80-53af709c4eb9",
   "metadata": {},
   "outputs": [
    {
     "data": {
      "text/plain": [
       "(array([432., 311., 148.,  64.,  28.,  14.,   3.]),\n",
       " array([0, 1, 2, 3, 4, 5, 6, 7]),\n",
       " <BarContainer object of 7 artists>)"
      ]
     },
     "execution_count": 8,
     "metadata": {},
     "output_type": "execute_result"
    },
    {
     "data": {
      "image/png": "[encoded data removed]",
      "text/plain": [
       "<Figure size 640x480 with 1 Axes>"
      ]
     },
     "metadata": {},
     "output_type": "display_data"
    }
   ],
   "source": [
    "all_wealth = []\n",
    "# This runs the model 100 times, each model executing 10 steps.\n",
    "for j in range(100):\n",
    "    # Run the model\n",
    "    model = MoneyModel(10)\n",
    "    for i in range(10):\n",
    "        model.step()\n",
    "\n",
    "    # Store the results\n",
    "    for agent in model.schedule.agents:\n",
    "        all_wealth.append(agent.wealth)\n",
    "\n",
    "plt.hist(all_wealth, bins=range(max(all_wealth) + 1))\n"
   ]
  },
  {
   "cell_type": "markdown",
   "id": "4183fb33-39ef-40be-8302-196256d42619",
   "metadata": {
    "tags": []
   },
   "source": [
    "# Adding Space\n",
    "We can use a mesa grid to add a spatial component.\n",
    "\n",
    "Each agent inherently has a pos variable with an (x,y) coordinate tuple. The place_agent method adds this attribute to the agent."
   ]
  },
  {
   "cell_type": "code",
   "execution_count": 9,
   "id": "c2f2e451-c67e-4cd1-a965-c1d3d5dbb57d",
   "metadata": {},
   "outputs": [],
   "source": [
    "class MoneyModel(mesa.Model):\n",
    "    \"\"\"A model with some number of agents.\"\"\"\n",
    "\n",
    "    def __init__(self, N, width, height):\n",
    "        self.num_agents = N\n",
    "        self.grid = mesa.space.MultiGrid(width, height, True)\n",
    "        self.schedule = RandomActivation(self)\n",
    "\n",
    "        # Create agents\n",
    "        for i in range(self.num_agents):\n",
    "            a = MoneyAgent(i, self)\n",
    "            self.schedule.add(a)\n",
    "\n",
    "            # Add the agent to a random grid cell\n",
    "            x = self.random.randrange(self.grid.width)\n",
    "            y = self.random.randrange(self.grid.height)\n",
    "            self.grid.place_agent(a, (x, y))"
   ]
  },
  {
   "cell_type": "markdown",
   "id": "b3c7e527-088c-4cea-8851-49428d60ea35",
   "metadata": {},
   "source": [
    "We now need to add a movement function.\n",
    "\n",
    "This can be done using the get_neighborhood function which tells the agent the occupancy of neighbouring cells."
   ]
  },
  {
   "cell_type": "code",
   "execution_count": 10,
   "id": "9055d562-f38e-4c8e-94c9-29088d6f7825",
   "metadata": {},
   "outputs": [],
   "source": [
    "def move(self):\n",
    "    possible_steps = self.model.grid.get_neighborhood(\n",
    "        self.pos,\n",
    "        moore=True,\n",
    "        include_center=False)\n",
    "    new_position = self.random.choice(possible_steps)\n",
    "    self.model.grid.move_agent(self, new_position)\n",
    "    \n",
    "setattr(MoneyAgent, 'move', move)"
   ]
  },
  {
   "cell_type": "code",
   "execution_count": 11,
   "id": "567c72b2-d517-482b-b5e4-ac4139232ceb",
   "metadata": {},
   "outputs": [],
   "source": [
    "class MoneyAgent(mesa.Agent):\n",
    "    \"\"\"An agent with fixed initial wealth.\"\"\"\n",
    "\n",
    "    def __init__(self, unique_id, model):\n",
    "        super().__init__(unique_id, model)\n",
    "        self.wealth = 1\n",
    "\n",
    "    def move(self):\n",
    "        possible_steps = self.model.grid.get_neighborhood(\n",
    "            self.pos, moore=True, include_center=False\n",
    "        )\n",
    "        new_position = self.random.choice(possible_steps)\n",
    "        self.model.grid.move_agent(self, new_position)\n",
    "\n",
    "    def give_money(self):\n",
    "        cellmates = self.model.grid.get_cell_list_contents([self.pos])\n",
    "        if len(cellmates) > 1:\n",
    "            other_agent = self.random.choice(cellmates)\n",
    "            other_agent.wealth += 1\n",
    "            self.wealth -= 1\n",
    "\n",
    "    def step(self):\n",
    "        self.move()\n",
    "        if self.wealth > 0:\n",
    "            self.give_money()\n",
    "\n",
    "\n",
    "class MoneyModel(mesa.Model):\n",
    "    \"\"\"A model with some number of agents.\"\"\"\n",
    "\n",
    "    def __init__(self, N, width, height):\n",
    "        self.num_agents = N\n",
    "        self.grid = mesa.space.MultiGrid(width, height, True)\n",
    "        self.schedule = mesa.time.RandomActivation(self)\n",
    "        # Create agents\n",
    "        for i in range(self.num_agents):\n",
    "            a = MoneyAgent(i, self)\n",
    "            self.schedule.add(a)\n",
    "            # Add the agent to a random grid cell\n",
    "            x = self.random.randrange(self.grid.width)\n",
    "            y = self.random.randrange(self.grid.height)\n",
    "            self.grid.place_agent(a, (x, y))\n",
    "\n",
    "    def step(self):\n",
    "        self.schedule.step()"
   ]
  },
  {
   "cell_type": "code",
   "execution_count": 12,
   "id": "136b14b7-3fc2-426c-b80d-d199da1e33e5",
   "metadata": {},
   "outputs": [],
   "source": [
    "model = MoneyModel(50, 10, 10)\n",
    "for i in range(20):\n",
    "    model.step()"
   ]
  },
  {
   "cell_type": "code",
   "execution_count": 13,
   "id": "8ba3041f-ed8f-4b96-b13d-6f6a26de28b7",
   "metadata": {},
   "outputs": [
    {
     "data": {
      "text/plain": [
       "<matplotlib.colorbar.Colorbar at 0x27fa4d74160>"
      ]
     },
     "execution_count": 13,
     "metadata": {},
     "output_type": "execute_result"
    },
    {
     "data": {
      "image/png": "[encoded data removed]",
      "text/plain": [
       "<Figure size 640x480 with 2 Axes>"
      ]
     },
     "metadata": {},
     "output_type": "display_data"
    }
   ],
   "source": [
    "import numpy as np\n",
    "\n",
    "agent_counts = np.zeros((model.grid.width, model.grid.height))\n",
    "for cell in model.grid.coord_iter():\n",
    "    cell_content, x, y = cell\n",
    "    agent_count = len(cell_content)\n",
    "    agent_counts[x][y] = agent_count\n",
    "plt.imshow(agent_counts, interpolation=\"nearest\")\n",
    "plt.colorbar()\n",
    "\n",
    "# If running from a text editor or IDE, remember you'll need the following:\n",
    "# plt.show()"
   ]
  },
  {
   "cell_type": "markdown",
   "id": "92aaa851-8184-4b3e-b7ac-6a199fe1fce3",
   "metadata": {},
   "source": [
    "# Data collection\n",
    "\n",
    "Using the data collector method, one can collect data from both the agents and model.\n",
    "\n",
    "In this case we will store the agents wealth and the gini coefficient at each step.\n",
    "\n",
    "Gini coefficient is a measure of the wealth inequality in a group.\n",
    "\n"
   ]
  },
  {
   "cell_type": "code",
   "execution_count": 14,
   "id": "4f2ad73f-dd3d-4c88-bdd1-aa5d9a4770bb",
   "metadata": {},
   "outputs": [],
   "source": [
    "def compute_gini(model):\n",
    "    agent_wealths = [agent.wealth for agent in model.schedule.agents]\n",
    "    x = sorted(agent_wealths)\n",
    "    N = model.num_agents\n",
    "    B = sum(xi * (N - i) for i, xi in enumerate(x)) / (N * sum(x))\n",
    "    return 1 + (1 / N) - 2 * B\n",
    "\n",
    "\n",
    "class MoneyAgent(mesa.Agent):\n",
    "    \"\"\"An agent with fixed initial wealth.\"\"\"\n",
    "\n",
    "    def __init__(self, unique_id, model):\n",
    "        super().__init__(unique_id, model)\n",
    "        self.wealth = 1\n",
    "\n",
    "    def move(self):\n",
    "        possible_steps = self.model.grid.get_neighborhood(\n",
    "            self.pos, moore=True, include_center=False\n",
    "        )\n",
    "        new_position = self.random.choice(possible_steps)\n",
    "        self.model.grid.move_agent(self, new_position)\n",
    "\n",
    "    def give_money(self):\n",
    "        cellmates = self.model.grid.get_cell_list_contents([self.pos])\n",
    "        if len(cellmates) > 1:\n",
    "            other = self.random.choice(cellmates)\n",
    "            other.wealth += 1\n",
    "            self.wealth -= 1\n",
    "\n",
    "    def step(self):\n",
    "        self.move()\n",
    "        if self.wealth > 0:\n",
    "            self.give_money()\n",
    "\n",
    "\n",
    "class MoneyModel(mesa.Model):\n",
    "    \"\"\"A model with some number of agents.\"\"\"\n",
    "\n",
    "    def __init__(self, N, width, height):\n",
    "        self.num_agents = N\n",
    "        self.grid = mesa.space.MultiGrid(width, height, True)\n",
    "        self.schedule = mesa.time.RandomActivation(self)\n",
    "\n",
    "        # Create agents\n",
    "        for i in range(self.num_agents):\n",
    "            a = MoneyAgent(i, self)\n",
    "            self.schedule.add(a)\n",
    "            # Add the agent to a random grid cell\n",
    "            x = self.random.randrange(self.grid.width)\n",
    "            y = self.random.randrange(self.grid.height)\n",
    "            self.grid.place_agent(a, (x, y))\n",
    "\n",
    "        self.datacollector = mesa.DataCollector(\n",
    "            model_reporters={\"Gini\": compute_gini}, agent_reporters={\"Wealth\": \"wealth\"}\n",
    "        )\n",
    "\n",
    "    def step(self):\n",
    "        self.datacollector.collect(self)\n",
    "        self.schedule.step()"
   ]
  },
  {
   "cell_type": "code",
   "execution_count": 15,
   "id": "9a1971b6-6688-401b-9576-3bd157f18ba8",
   "metadata": {},
   "outputs": [],
   "source": [
    "model = MoneyModel(50, 10, 10)\n",
    "for i in range(100):\n",
    "    model.step()"
   ]
  },
  {
   "cell_type": "markdown",
   "id": "e12b4b40-bd4c-4081-bc15-7a532262f04e",
   "metadata": {},
   "source": [
    "# Extracting data as a dataframe\n",
    "\n",
    "Extracting the data from the data collector as a pandas dataframe\n",
    "\n",
    "Here we are extracting model variables"
   ]
  },
  {
   "cell_type": "code",
   "execution_count": 16,
   "id": "75af6362-aa7a-469f-a6db-bc0ba6cef338",
   "metadata": {},
   "outputs": [
    {
     "data": {
      "text/plain": [
       "<AxesSubplot:>"
      ]
     },
     "execution_count": 16,
     "metadata": {},
     "output_type": "execute_result"
    },
    {
     "data": {
      "image/png": "[encoded data removed]",
      "text/plain": [
       "<Figure size 640x480 with 1 Axes>"
      ]
     },
     "metadata": {},
     "output_type": "display_data"
    }
   ],
   "source": [
    "gini = model.datacollector.get_model_vars_dataframe()\n",
    "\n",
    "gini.plot()"
   ]
  },
  {
   "cell_type": "markdown",
   "id": "94c297ee-2ede-4f2f-a451-ea8ce5384c32",
   "metadata": {},
   "source": [
    "## Extracting agent variables"
   ]
  },
  {
   "cell_type": "code",
   "execution_count": 17,
   "id": "1fa2999b-c34a-4717-822f-9d2f69c7ac50",
   "metadata": {},
   "outputs": [
    {
     "data": {
      "text/html": [
       "<div>\n",
       "<style scoped>\n",
       "    .dataframe tbody tr th:only-of-type {\n",
       "        vertical-align: middle;\n",
       "    }\n",
       "\n",
       "    .dataframe tbody tr th {\n",
       "        vertical-align: top;\n",
       "    }\n",
       "\n",
       "    .dataframe thead th {\n",
       "        text-align: right;\n",
       "    }\n",
       "</style>\n",
       "<table border=\"1\" class=\"dataframe\">\n",
       "  <thead>\n",
       "    <tr style=\"text-align: right;\">\n",
       "      <th></th>\n",
       "      <th></th>\n",
       "      <th>Wealth</th>\n",
       "    </tr>\n",
       "    <tr>\n",
       "      <th>Step</th>\n",
       "      <th>AgentID</th>\n",
       "      <th></th>\n",
       "    </tr>\n",
       "  </thead>\n",
       "  <tbody>\n",
       "    <tr>\n",
       "      <th rowspan=\"5\" valign=\"top\">0</th>\n",
       "      <th>0</th>\n",
       "      <td>1</td>\n",
       "    </tr>\n",
       "    <tr>\n",
       "      <th>1</th>\n",
       "      <td>1</td>\n",
       "    </tr>\n",
       "    <tr>\n",
       "      <th>2</th>\n",
       "      <td>1</td>\n",
       "    </tr>\n",
       "    <tr>\n",
       "      <th>3</th>\n",
       "      <td>1</td>\n",
       "    </tr>\n",
       "    <tr>\n",
       "      <th>4</th>\n",
       "      <td>1</td>\n",
       "    </tr>\n",
       "  </tbody>\n",
       "</table>\n",
       "</div>"
      ],
      "text/plain": [
       "              Wealth\n",
       "Step AgentID        \n",
       "0    0             1\n",
       "     1             1\n",
       "     2             1\n",
       "     3             1\n",
       "     4             1"
      ]
     },
     "execution_count": 17,
     "metadata": {},
     "output_type": "execute_result"
    }
   ],
   "source": [
    "agent_wealth = model.datacollector.get_agent_vars_dataframe()\n",
    "agent_wealth.head()"
   ]
  },
  {
   "cell_type": "markdown",
   "id": "c0f044c3-9338-49f2-a730-951fa674b733",
   "metadata": {},
   "source": [
    "Taking a cross section of the data frame at step 99 then accessing the wealth column"
   ]
  },
  {
   "cell_type": "code",
   "execution_count": 18,
   "id": "907b0649-ebb4-4f8d-93ba-bb67991086f7",
   "metadata": {},
   "outputs": [
    {
     "data": {
      "text/plain": [
       "<AxesSubplot:>"
      ]
     },
     "execution_count": 18,
     "metadata": {},
     "output_type": "execute_result"
    },
    {
     "data": {
      "image/png": "[encoded data removed]",
      "text/plain": [
       "<Figure size 640x480 with 1 Axes>"
      ]
     },
     "metadata": {},
     "output_type": "display_data"
    }
   ],
   "source": [
    "end_wealth = agent_wealth.xs(99, level=\"Step\")[\"Wealth\"]\n",
    "end_wealth.hist(bins=range(agent_wealth.Wealth.max() + 1))"
   ]
  },
  {
   "cell_type": "markdown",
   "id": "d66d63a7-a7ff-40de-a897-2d88e2ab5d4a",
   "metadata": {},
   "source": [
    "Accessing a specific agent and their wealth over the course of the simulation"
   ]
  },
  {
   "cell_type": "code",
   "execution_count": 19,
   "id": "1f44dfe4-1509-4fc9-824a-1c1059af2ac6",
   "metadata": {},
   "outputs": [
    {
     "data": {
      "text/plain": [
       "<AxesSubplot:xlabel='Step'>"
      ]
     },
     "execution_count": 19,
     "metadata": {},
     "output_type": "execute_result"
    },
    {
     "data": {
      "image/png": "[encoded data removed]",
      "text/plain": [
       "<Figure size 640x480 with 1 Axes>"
      ]
     },
     "metadata": {},
     "output_type": "display_data"
    }
   ],
   "source": [
    "one_agent_wealth = agent_wealth.xs(14, level=\"AgentID\")\n",
    "one_agent_wealth.Wealth.plot()"
   ]
  },
  {
   "cell_type": "markdown",
   "id": "393f24b8-5561-47aa-81ab-a509bd33be3c",
   "metadata": {},
   "source": [
    "# Batch runner\n",
    "\n",
    "To use the batch runner with a simulation you need to include a self.running attribute. This defines when the batch runner should stop running"
   ]
  },
  {
   "cell_type": "code",
   "execution_count": 20,
   "id": "ea2b28b1-7b96-40a8-846f-dc05aadf840a",
   "metadata": {},
   "outputs": [],
   "source": [
    "def compute_gini(model):\n",
    "    agent_wealths = [agent.wealth for agent in model.schedule.agents]\n",
    "    x = sorted(agent_wealths)\n",
    "    N = model.num_agents\n",
    "    B = sum(xi * (N - i) for i, xi in enumerate(x)) / (N * sum(x))\n",
    "    return 1 + (1 / N) - 2 * B\n",
    "\n",
    "\n",
    "class MoneyModel(mesa.Model):\n",
    "    \"\"\"A model with some number of agents.\"\"\"\n",
    "\n",
    "    def __init__(self, N, width, height):\n",
    "        self.num_agents = N\n",
    "        self.grid = mesa.space.MultiGrid(width, height, True)\n",
    "        self.schedule = mesa.time.RandomActivation(self)\n",
    "        self.running = True\n",
    "\n",
    "        # Create agents\n",
    "        for i in range(self.num_agents):\n",
    "            a = MoneyAgent(i, self)\n",
    "            self.schedule.add(a)\n",
    "            # Add the agent to a random grid cell\n",
    "            x = self.random.randrange(self.grid.width)\n",
    "            y = self.random.randrange(self.grid.height)\n",
    "            self.grid.place_agent(a, (x, y))\n",
    "\n",
    "        self.datacollector = mesa.DataCollector(\n",
    "            model_reporters={\"Gini\": compute_gini}, agent_reporters={\"Wealth\": \"wealth\"}\n",
    "        )\n",
    "\n",
    "    def step(self):\n",
    "        self.datacollector.collect(self)\n",
    "        self.schedule.step()"
   ]
  },
  {
   "cell_type": "markdown",
   "id": "fac556f2-c2f9-4b69-85f5-1063aae0a0f3",
   "metadata": {},
   "source": [
    "## Defining Batch run parameters\n",
    "We call batch_run with the following arguments:\n",
    "\n",
    "model_cls The model class that is used for the batch run.\n",
    "\n",
    "parameters A dictionary containing all the parameters of the model class and desired values to use for the batch run as key-value pairs. Each value can either be fixed ( e.g. {\"height\": 10, \"width\": 10}) or an iterable (e.g. {\"N\": range(10, 500, 10)}). batch_run will then generate all possible parameter combinations based on this dictionary and run the model iterations times for each combination.\n",
    "\n",
    "number_processes If not specified, defaults to 1. Set it to None to use all the available processors. Note: Multiprocessing does make debugging challenging. If your parameter sweeps are resulting in unexpected errors set number_processes = 1.\n",
    "\n",
    "iterations The number of iterations to run each parameter combination for. Optional. If not specified, defaults to 1.\n",
    "\n",
    "data_collection_period The length of the period (number of steps) after which the model and agent reporters collect data. Optional. If not specified, defaults to -1, i.e. only at the end of each episode.\n",
    "\n",
    "max_steps The maximum number of time steps after which the model halts. An episode does either end when self.running of the model class is set to False or when model.schedule.steps == max_steps is reached. Optional. If not specified, defaults to 1000.\n",
    "\n",
    "display_progress Display the batch run progress. Optional. If not specified, defaults to True.\n",
    "\n",
    "In the following example, we hold the height and width fixed, and vary the number of agents. We tell the batch runner to run 5 instantiations of the model with each number of agents, and to run each for 100 steps.\n",
    "\n",
    "We want to keep track of\n",
    "\n",
    "the Gini coefficient value and\n",
    "\n",
    "the individual agent’s wealth development.\n",
    "\n",
    "Since for the latter changes at each time step might be interesting, we set data_collection_period = 1.\n",
    "\n",
    "Note: The total number of runs is 245 (= 49 different populations * 5 iterations per population). However, the resulting list of dictionaries will be of length 6186250 (= 250 average agents per population * 49 different populations * 5 iterations per population * 101 steps per iteration).\n",
    "\n",
    "Note for Windows OS users: If you are running this tutorial in Jupyter, make sure that you set number_processes = 1 (single process). If number_processes is greater than 1, it is less straightforward to set up. You can read Mesa’s collect"
   ]
  },
  {
   "cell_type": "code",
   "execution_count": 21,
   "id": "4ab1b615-8196-4674-a428-b510931e0ce9",
   "metadata": {
    "tags": []
   },
   "outputs": [],
   "source": [
    "params = {\"width\": 10, \"height\": 10, \"N\": range(10, 500, 10)} # Defining starting params as well as the range of params to run through\n",
    "\n",
    "# results = mesa.batch_run(\n",
    "#     MoneyModel, # Runs this model\n",
    "#     parameters=params, # With these starting params for the model\n",
    "#     iterations=5, # Repeats the simulation n times for each set of parameters\n",
    "#     max_steps=100, # Maximum number of time steps after which the model stops (useful if the model is set to repeat until a certain goal has been reached and not within a time limit)\n",
    "#     number_processes=1, # Number of processors (Will need to look up how to run with multiple processors however) \n",
    "#     data_collection_period=1, # Length of period after which the which the model and agent data collectors collect data\n",
    "#     display_progress=True, # Produces progress bar\n",
    "# )"
   ]
  },
  {
   "cell_type": "markdown",
   "id": "e5584332-3a86-4a8f-b975-89c883f6f7f9",
   "metadata": {},
   "source": [
    "# Interpreting the resulting data\n",
    "\n",
    "Here we see the dictionary keys that are within the dataframe"
   ]
  },
  {
   "cell_type": "code",
   "execution_count": 22,
   "id": "b2269dc3-b2d2-467d-82a7-9c3f7949748a",
   "metadata": {
    "tags": []
   },
   "outputs": [],
   "source": [
    "# import pandas as pd\n",
    "\n",
    "# results_df = pd.DataFrame(results)\n",
    "# print(results_df.keys())"
   ]
  },
  {
   "cell_type": "markdown",
   "id": "70f9b4d3-a229-4e4c-a343-8c4d0bcca8a9",
   "metadata": {},
   "source": [
    "Accessing dataframe\n",
    "\n",
    "We are filtering for step 100 of all simulations and specifically agent 0. Then through the agent, we are accessing the total number of agents and gini values. Finally we scatter plot the resulting gini coefficients for simulations with different numbers of agents. "
   ]
  },
  {
   "cell_type": "code",
   "execution_count": 23,
   "id": "de4d5636-e43e-4b75-ba56-53501e7f9278",
   "metadata": {
    "tags": []
   },
   "outputs": [
    {
     "ename": "NameError",
     "evalue": "name 'results_df' is not defined",
     "output_type": "error",
     "traceback": [
      "\u001b[1;31m---------------------------------------------------------------------------\u001b[0m",
      "\u001b[1;31mNameError\u001b[0m                                 Traceback (most recent call last)",
      "\u001b[1;32m~\\AppData\\Local\\Temp\\ipykernel_8672\\602669096.py\u001b[0m in \u001b[0;36m<module>\u001b[1;34m\u001b[0m\n\u001b[1;32m----> 1\u001b[1;33m \u001b[0mresults_filtered\u001b[0m \u001b[1;33m=\u001b[0m \u001b[0mresults_df\u001b[0m\u001b[1;33m[\u001b[0m\u001b[1;33m(\u001b[0m\u001b[0mresults_df\u001b[0m\u001b[1;33m.\u001b[0m\u001b[0mAgentID\u001b[0m \u001b[1;33m==\u001b[0m \u001b[1;36m0\u001b[0m\u001b[1;33m)\u001b[0m \u001b[1;33m&\u001b[0m \u001b[1;33m(\u001b[0m\u001b[0mresults_df\u001b[0m\u001b[1;33m.\u001b[0m\u001b[0mStep\u001b[0m \u001b[1;33m==\u001b[0m \u001b[1;36m100\u001b[0m\u001b[1;33m)\u001b[0m\u001b[1;33m]\u001b[0m\u001b[1;33m\u001b[0m\u001b[1;33m\u001b[0m\u001b[0m\n\u001b[0m\u001b[0;32m      2\u001b[0m \u001b[0mN_values\u001b[0m \u001b[1;33m=\u001b[0m \u001b[0mresults_filtered\u001b[0m\u001b[1;33m.\u001b[0m\u001b[0mN\u001b[0m\u001b[1;33m.\u001b[0m\u001b[0mvalues\u001b[0m\u001b[1;33m\u001b[0m\u001b[1;33m\u001b[0m\u001b[0m\n\u001b[0;32m      3\u001b[0m \u001b[0mgini_values\u001b[0m \u001b[1;33m=\u001b[0m \u001b[0mresults_filtered\u001b[0m\u001b[1;33m.\u001b[0m\u001b[0mGini\u001b[0m\u001b[1;33m.\u001b[0m\u001b[0mvalues\u001b[0m\u001b[1;33m\u001b[0m\u001b[1;33m\u001b[0m\u001b[0m\n\u001b[0;32m      4\u001b[0m \u001b[0mplt\u001b[0m\u001b[1;33m.\u001b[0m\u001b[0mscatter\u001b[0m\u001b[1;33m(\u001b[0m\u001b[0mN_values\u001b[0m\u001b[1;33m,\u001b[0m \u001b[0mgini_values\u001b[0m\u001b[1;33m)\u001b[0m\u001b[1;33m\u001b[0m\u001b[1;33m\u001b[0m\u001b[0m\n",
      "\u001b[1;31mNameError\u001b[0m: name 'results_df' is not defined"
     ]
    }
   ],
   "source": [
    "# results_filtered = results_df[(results_df.AgentID == 0) & (results_df.Step == 100)]\n",
    "# N_values = results_filtered.N.values\n",
    "# gini_values = results_filtered.Gini.values\n",
    "# plt.scatter(N_values, gini_values)"
   ]
  },
  {
   "cell_type": "markdown",
   "id": "799dbd0c-2b5b-47fe-913c-5cad5a40c3b9",
   "metadata": {},
   "source": [
    "Here we are accessing the 2nd simulation of the 10 agent simulation set "
   ]
  },
  {
   "cell_type": "code",
   "execution_count": null,
   "id": "47c4450f-ef83-4676-8dc3-9f87b236e7a0",
   "metadata": {
    "tags": []
   },
   "outputs": [],
   "source": [
    "# # First, we filter the results\n",
    "# one_episode_wealth = results_df[(results_df.N == 10) & (results_df.iteration == 2)]\n",
    "# # Then, print the columns of interest of the filtered data frame\n",
    "# print(\n",
    "#     one_episode_wealth.to_string(\n",
    "#         index=False, columns=[\"Step\", \"AgentID\", \"Wealth\"], max_rows=25\n",
    "#     )\n",
    "# )\n",
    "# # For a prettier display we can also convert the data frame to html, uncomment to test in a Jupyter Notebook\n",
    "# from IPython.display import display, HTML\n",
    "# display(HTML(one_episode_wealth.to_html(index=False, columns=['Step', 'AgentID', 'Wealth'], max_rows=25)))"
   ]
  },
  {
   "cell_type": "markdown",
   "id": "802cb993-ce8e-48fa-aaa7-f7d9608447aa",
   "metadata": {},
   "source": [
    "Here we are accessing the agent 0 of the 1st iteration of the 10 agent simulation set."
   ]
  },
  {
   "cell_type": "code",
   "execution_count": null,
   "id": "bfc237be-1bb4-4a47-b175-bd37fafaebef",
   "metadata": {},
   "outputs": [],
   "source": [
    "# results_one_episode = results_df[\n",
    "#     (results_df.N == 10) & (results_df.iteration == 1) & (results_df.AgentID == 0)\n",
    "# ]\n",
    "# print(results_one_episode.to_string(index=False, columns=[\"Step\", \"Gini\"], max_rows=25))"
   ]
  },
  {
   "cell_type": "markdown",
   "id": "205cb11a-486b-4a6e-9019-0b9dabeaeca7",
   "metadata": {},
   "source": [
    "Importing various required modules"
   ]
  },
  {
   "cell_type": "code",
   "execution_count": 1,
   "id": "d35979ef-8f36-421f-ac7c-1b9bf3ed7b61",
   "metadata": {},
   "outputs": [],
   "source": [
    "import numpy as np\n",
    "import matplotlib.pyplot as plt\n",
    "import scipy.constants as constant\n",
    "from scipy.optimize import curve_fit\n",
    "import math\n",
    "from tqdm.notebook import tqdm, trange\n",
    "import ipywidgets as widgets\n",
    "import mesa\n",
    "import pandas as pd\n",
    "from matplotlib.patches import Circle"
   ]
  },
  {
   "cell_type": "markdown",
   "id": "e2f05ed1-8f67-4e16-9bfb-75cc9464fc4a",
   "metadata": {},
   "source": [
    "# Attempt to introduce continuous space\n",
    "\n",
    "Beginning with a simple place and move agent model"
   ]
  },
  {
   "cell_type": "code",
   "execution_count": 3,
   "id": "0a1726ed-edcb-48bd-8fc7-eac10040f7d3",
   "metadata": {},
   "outputs": [],
   "source": [
    "class MoneyAgent(mesa.Agent):\n",
    "    \"\"\"An agent with fixed initial wealth.\"\"\"\n",
    "\n",
    "    def __init__(self, unique_id, model):\n",
    "        super().__init__(unique_id, model)\n",
    "        self._velocity = [[-1,1][self.random.randrange(2)],[-1,1][self.random.randrange(2)]]\n",
    "        self.radius = 2\n",
    "        self.mass = 1\n",
    "        # print(self._velocity)\n",
    "    \n",
    "    @property\n",
    "    def velocity(self):\n",
    "        return self._velocity\n",
    "    \n",
    "    @velocity.setter\n",
    "    def velocity(self, value):\n",
    "        self._velocity = value\n",
    "    \n",
    "    @property\n",
    "    def velocity_magnitude(self):\n",
    "        return np.linalg.norm(self._velocity)\n",
    "    \n",
    "    def move(self):\n",
    "        \n",
    "        # print(f'Position {self.pos} + velocity {self._velocity} * time step {self.model.time_step}')\n",
    "        \n",
    "        new_position = self.pos + np.array(self._velocity)*self.model.time_step\n",
    "        # new_position = [sum(x) for x in zip([self.pos],self._velocity*self.model.time_step)]\n",
    "        \n",
    "        # print(f'New position {new_position}')\n",
    "\n",
    "        self.model.space.move_agent(self, new_position)\n",
    "        \n",
    "    def collision_check(self):\n",
    "        # This collision checking will define the dynamics of the collision\n",
    "        # potential_collision_partners = self.model.space.get_neighbors(self.pos, radius = 200, include_center = False)\n",
    "        potential_collision_partners = self.model.space.get_neighbors(self.pos, radius = self.radius, include_center = False)\n",
    "        \n",
    "        if potential_collision_partners:\n",
    "            # print(f'potential collision partners: {[z.unique_id for z in potential_collision_partners]}')\n",
    "\n",
    "            for other in potential_collision_partners:\n",
    "                if self == other: \n",
    "                    # print(f'no collision')\n",
    "                    continue\n",
    "                # print(f'Collision between {self.unique_id} and {potential_collision_partners[0].unique_id}')\n",
    "                self.collision(other)\n",
    "                \n",
    "\n",
    "\n",
    "    def collision(self,other):\n",
    "        self_velocity = np.array(self._velocity)\n",
    "        other_velocity = np.array(other._velocity)\n",
    "        self_pos = np.array(self.pos)\n",
    "        other_pos = np.array(other.pos)\n",
    "        self_velocity = self_velocity - (2*other.mass/(self.mass+other.mass))*np.dot(self_velocity - other_velocity,self_pos-other_pos)*(self_pos-other_pos)/np.linalg.norm(self_pos-other_pos)**2\n",
    "        other_velocity = other_velocity - (2*self.mass/(self.mass+other.mass))*np.dot(other_velocity - self_velocity,other_pos-self_pos)*(other_pos-self_pos)/np.linalg.norm(other_pos-self_pos)**2\n",
    "        \n",
    "        if np.dot(self_velocity - other_velocity,self_pos-other_pos) == 0 or np.dot(other_velocity - self_velocity,other_pos-self_pos) == 0:\n",
    "            print('perpendicular')\n",
    "        \n",
    "        # print(self_velocity)\n",
    "        # print(other_velocity)\n",
    "        self._velocity = tuple(self_velocity)\n",
    "        other._velocity = tuple(other_velocity)\n",
    "        \n",
    "        \n",
    "    def step(self):\n",
    "        self.collision_check()\n",
    "        self.move()\n",
    "\n",
    "    def draw(self, ax):\n",
    "        \"\"\"Add this Particle's Circle patch to the Matplotlib Axes ax.\"\"\"\n",
    "\n",
    "        circle = Circle(xy=self.pos, radius=self.radius/2)\n",
    "        ax.add_patch(circle)\n",
    "    \n",
    "    def overlap(self):\n",
    "        potential_collision_partners = self.model.space.get_neighbors(self.pos, radius = self.radius, include_center = False)\n",
    "        \n",
    "        if potential_collision_partners:\n",
    "            # print(f'overlap found at {self.pos}')\n",
    "            return True\n",
    "        else:\n",
    "            return False\n",
    "\n",
    "        \n",
    "\n",
    "class MoneyModel(mesa.Model):\n",
    "    \"\"\"A model with some number of agents.\"\"\"\n",
    "\n",
    "    def __init__(self, N, width, height, time_step):\n",
    "        self.num_agents = N\n",
    "        self.space = mesa.space.ContinuousSpace(x_max = 0.5*width, y_max = 0.5*height, torus = True, x_min = -0.5*width, y_min = -0.5*height)\n",
    "        self.schedule = mesa.time.RandomActivation(self)\n",
    "        self.time_step = time_step\n",
    "        \n",
    "        # Create agents\n",
    "        for i in range(self.num_agents):\n",
    "            \n",
    "            a = MoneyAgent(i, self)\n",
    "            \n",
    "            self.schedule.add(a)\n",
    "            # Add the agent to a random grid cell\n",
    "            x = self.random.uniform(self.space.x_min, self.space.x_max)\n",
    "            y = self.random.uniform(self.space.x_min, self.space.x_max)\n",
    "\n",
    "            self.space.place_agent(a, (x, y))\n",
    "            \n",
    "            j = 0\n",
    "            while a.overlap():\n",
    "\n",
    "\n",
    "                self.schedule.remove(a)\n",
    "                self.space.remove_agent(a)\n",
    "                # print(f'Removing {a}')\n",
    "\n",
    "                if j > 30:\n",
    "                    print(f'Couldn\\'t find any space for more agents. Reached max number of overlaps')\n",
    "\n",
    "                    break\n",
    "\n",
    "                a = MoneyAgent(i, self)\n",
    "                self.schedule.add(a)\n",
    "\n",
    "                # Add the agent to a random grid cell\n",
    "                x = self.random.uniform(self.space.x_min, self.space.x_max)\n",
    "                y = self.random.uniform(self.space.x_min, self.space.x_max)\n",
    "\n",
    "                self.space.place_agent(a, (x, y))\n",
    "\n",
    "                j += 1\n",
    "                    \n",
    "            else:\n",
    "                continue\n",
    "\n",
    "            break\n",
    "\n",
    "        \n",
    "        self.datacollector = mesa.DataCollector(\n",
    "            model_reporters=None, agent_reporters={\"Speed\": \"velocity_magnitude\", \"Position\": \"pos\"}\n",
    "        )\n",
    "            \n",
    "    def step(self):\n",
    "        self.datacollector.collect(self)\n",
    "        self.schedule.step()\n",
    "        \n",
    "    def plot_2D(self):\n",
    "        fig, ax = plt.subplots()\n",
    "        plt.rcParams[\"figure.figsize\"] = (10,10)\n",
    "        ax.set_xlim(self.space.x_min, self.space.x_max)\n",
    "        ax.set_ylim(self.space.y_min, self.space.y_max)\n",
    "        \n",
    "        for agent in self.schedule.agents:\n",
    "            agent.draw(ax)\n",
    "        \n"
   ]
  },
  {
   "cell_type": "markdown",
   "id": "fca2e333-9413-489b-affb-54cd9ce9d991",
   "metadata": {},
   "source": []
  },
  {
   "cell_type": "code",
   "execution_count": 4,
   "id": "d260d288-df1b-468c-9e2a-1d737329b3a2",
   "metadata": {},
   "outputs": [
    {
     "data": {
      "application/vnd.jupyter.widget-view+json": {
       "model_id": "11d94ddb031d480e83005bffbc01ce3e",
       "version_major": 2,
       "version_minor": 0
      },
      "text/plain": [
       "  0%|          | 0/100 [00:00<?, ?it/s]"
      ]
     },
     "metadata": {},
     "output_type": "display_data"
    },
    {
     "name": "stdout",
     "output_type": "stream",
     "text": [
      "perpendicular\n",
      "perpendicular\n",
      "perpendicular\n",
      "perpendicular\n",
      "perpendicular\n",
      "perpendicular\n",
      "perpendicular\n",
      "perpendicular\n",
      "perpendicular\n",
      "perpendicular\n",
      "perpendicular\n",
      "perpendicular\n",
      "perpendicular\n",
      "perpendicular\n",
      "perpendicular\n",
      "perpendicular\n",
      "perpendicular\n",
      "perpendicular\n",
      "perpendicular\n",
      "perpendicular\n",
      "perpendicular\n",
      "perpendicular\n",
      "perpendicular\n",
      "perpendicular\n",
      "perpendicular\n",
      "perpendicular\n",
      "perpendicular\n",
      "perpendicular\n",
      "perpendicular\n",
      "perpendicular\n",
      "perpendicular\n",
      "perpendicular\n",
      "perpendicular\n",
      "perpendicular\n",
      "perpendicular\n",
      "perpendicular\n",
      "perpendicular\n",
      "perpendicular\n",
      "perpendicular\n",
      "perpendicular\n",
      "perpendicular\n",
      "perpendicular\n",
      "perpendicular\n",
      "perpendicular\n",
      "perpendicular\n",
      "perpendicular\n",
      "perpendicular\n",
      "perpendicular\n",
      "perpendicular\n",
      "perpendicular\n",
      "perpendicular\n",
      "perpendicular\n",
      "perpendicular\n",
      "perpendicular\n",
      "perpendicular\n",
      "perpendicular\n",
      "perpendicular\n",
      "perpendicular\n",
      "perpendicular\n",
      "perpendicular\n",
      "perpendicular\n",
      "perpendicular\n",
      "perpendicular\n",
      "perpendicular\n",
      "perpendicular\n",
      "perpendicular\n",
      "perpendicular\n",
      "perpendicular\n",
      "perpendicular\n",
      "perpendicular\n",
      "perpendicular\n",
      "perpendicular\n",
      "perpendicular\n",
      "perpendicular\n",
      "perpendicular\n",
      "perpendicular\n",
      "perpendicular\n",
      "perpendicular\n",
      "perpendicular\n",
      "perpendicular\n",
      "perpendicular\n",
      "perpendicular\n",
      "perpendicular\n",
      "perpendicular\n",
      "perpendicular\n",
      "perpendicular\n",
      "perpendicular\n",
      "perpendicular\n",
      "perpendicular\n",
      "perpendicular\n",
      "perpendicular\n",
      "perpendicular\n",
      "perpendicular\n",
      "perpendicular\n",
      "perpendicular\n",
      "perpendicular\n",
      "perpendicular\n",
      "perpendicular\n",
      "perpendicular\n",
      "perpendicular\n",
      "perpendicular\n",
      "perpendicular\n",
      "perpendicular\n",
      "perpendicular\n",
      "perpendicular\n",
      "perpendicular\n",
      "perpendicular\n",
      "perpendicular\n",
      "perpendicular\n",
      "perpendicular\n",
      "perpendicular\n",
      "perpendicular\n",
      "perpendicular\n",
      "perpendicular\n",
      "perpendicular\n",
      "perpendicular\n",
      "perpendicular\n",
      "perpendicular\n",
      "perpendicular\n",
      "perpendicular\n",
      "perpendicular\n",
      "perpendicular\n",
      "perpendicular\n",
      "perpendicular\n",
      "perpendicular\n",
      "perpendicular\n",
      "perpendicular\n",
      "perpendicular\n",
      "perpendicular\n",
      "perpendicular\n",
      "perpendicular\n",
      "perpendicular\n",
      "perpendicular\n",
      "perpendicular\n",
      "perpendicular\n",
      "perpendicular\n",
      "perpendicular\n",
      "perpendicular\n",
      "perpendicular\n",
      "perpendicular\n",
      "perpendicular\n"
     ]
    }
   ],
   "source": [
    "model = MoneyModel(10, 10, 10, 1)\n",
    "model_length = 100\n",
    "for i in tqdm(range(model_length)):\n",
    "    # print(f'step {i}')\n",
    "    model.step()\n",
    "# model.step()"
   ]
  },
  {
   "cell_type": "code",
   "execution_count": 28,
   "id": "23c2711a-3b27-42d8-bd3b-7e626d4d2f85",
   "metadata": {},
   "outputs": [
    {
     "name": "stdout",
     "output_type": "stream",
     "text": [
      "10\n"
     ]
    },
    {
     "data": {
      "image/png": "[encoded data removed]",
      "text/plain": [
       "<Figure size 640x480 with 1 Axes>"
      ]
     },
     "metadata": {},
     "output_type": "display_data"
    }
   ],
   "source": [
    "model.plot_2D()\n",
    "print(len(model.schedule.agents))"
   ]
  },
  {
   "cell_type": "code",
   "execution_count": 51,
   "id": "39a4b1ae-6f0e-4935-ab12-20d1b0ff2882",
   "metadata": {},
   "outputs": [
    {
     "data": {
      "image/png": "[encoded data removed]",
      "text/plain": [
       "<Figure size 1000x1000 with 1 Axes>"
      ]
     },
     "metadata": {},
     "output_type": "display_data"
    }
   ],
   "source": [
    "positions = model.datacollector.get_agent_vars_dataframe()\n",
    "# print(positions.loc[\"Step\", :])\n",
    "# print(positions.tail())\n",
    "momentary_position = positions.xs(9, level=\"Step\")[\"Position\"]\n",
    "# print(len(momentary_position))\n",
    "\n",
    "\n",
    "fig, ax = plt.subplots()\n",
    "plt.rcParams[\"figure.figsize\"] = (10,10)\n",
    "ax.set_xlim(model.space.x_min, model.space.x_max)\n",
    "ax.set_ylim(model.space.y_min, model.space.y_max)\n",
    "\n",
    "for agent_position in momentary_position:\n",
    "    circle = Circle(xy=agent_position, radius=1)\n",
    "    ax.add_patch(circle)\n",
    "#     for agent in model.schedule.agents:\n",
    "#         agent.draw(ax)\n",
    "\n",
    "# model.plot_2D()\n",
    "\n",
    "# for agent_position in momentary_position:\n",
    "#     circle = Circle(xy=agent_position, radius=1)\n",
    "#     ax.add_patch(circle)\n",
    "# def animate_plot(Step=model_length-1):\n",
    "#     print(Step)\n",
    "#     momentary_position = positions.xs(Step, level=\"Step\")[\"Position\"]\n",
    "#     model.plot_2D()\n",
    "    \n",
    "# slider = widgets.IntSlider(min= 0, max=model_length-1)\n",
    "# play = widgets.Play(min= 0, max=model_length-1)\n",
    "# widgets.jslink((play, 'value'), (slider, 'value'))\n",
    "# widgets.interact(animate_plot, Step = slider)\n",
    "# widgets.HBox([play, slider])"
   ]
  },
  {
   "cell_type": "code",
   "execution_count": null,
   "id": "f7069d77-77f3-4d59-a528-700ee570c446",
   "metadata": {},
   "outputs": [],
   "source": [
    "def Maxwell_Boltzmann_2D(v,v_offset = 0, alpha = 0.2, k = 1, l = 1):\n",
    "    return k*2*alpha*(v-v_offset)*np.exp(-alpha*l*(v-v_offset)**2)\n",
    "\n",
    "velocities = model.datacollector.get_agent_vars_dataframe()\n",
    "print(velocities.tail())\n",
    "final_velocities = velocities.xs(model_length - 1, level=\"Step\")[\"Speed\"]\n",
    "bin_heights, bin_edges, _ = plt.hist(final_velocities,bins = 40, density = True, stacked = True)\n",
    "bin_centres = bin_edges[:-1] + np.diff(bin_edges)/2\n",
    "plt.plot(bin_centres,bin_heights)\n",
    "opt_params, pcov = curve_fit(Maxwell_Boltzmann_2D, bin_centres, bin_heights, p0=[0, 0.0025, 1], bounds = (0,50))\n",
    "perr = perr = np.sqrt(np.diag(pcov))\n",
    "x_interval_for_fit = np.linspace(bin_edges[0], bin_edges[-1], 10000)\n",
    "fit_y = Maxwell_Boltzmann_2D(x_interval_for_fit, *opt_params)\n",
    "plt.plot(x_interval_for_fit, fit_y, label = 'f')"
   ]
  }
 ],
 "metadata": {
  "kernelspec": {
   "display_name": "Python 3 (ipykernel)",
   "language": "python",
   "name": "python3"
  },
  "language_info": {
   "codemirror_mode": {
    "name": "ipython",
    "version": 3
   },
   "file_extension": ".py",
   "mimetype": "text/x-python",
   "name": "python",
   "nbconvert_exporter": "python",
   "pygments_lexer": "ipython3",
   "version": "3.9.13"
  }
 },
 "nbformat": 4,
 "nbformat_minor": 5
}
